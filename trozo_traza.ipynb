{
 "cells": [
  {
   "cell_type": "code",
   "execution_count": 1,
   "metadata": {},
   "outputs": [],
   "source": [
    "import numpy as np\n",
    "import matplotlib.pyplot as plt\n",
    "import seaborn as sns\n",
    "import matplotlib.dates as mdates\n",
    "import matplotlib.cm as cm\n",
    "import matplotlib.pyplot as plt\n",
    "from matplotlib import colormaps\n",
    "import warnings\n",
    "warnings.filterwarnings(\"ignore\")\n",
    "\n",
    "from obspy import read, UTCDateTime\n",
    "from obspy.signal.trigger import classic_sta_lta, trigger_onset, plot_trigger\n",
    "from obspy import Trace\n",
    "\n",
    "import os\n",
    "import csv\n",
    "import pandas as pd\n",
    "\n",
    "from collections import defaultdict\n",
    "\n",
    "from geopy.distance import geodesic\n",
    "\n",
    "from datetime import datetime, timedelta, timezone\n",
    "\n",
    "from tqdm.auto import tqdm\n",
    "from icecream import ic\n",
    "\n",
    "from picking.P_picking import P_picking \n",
    "from picking.p_wave_detection import p_picking\n",
    "from picking.utils import optimize_parameters, load_best_params\n",
    "\n",
    "from itertools import product\n",
    "import itertools\n",
    "\n",
    "import plotly.express as px\n",
    "import plotly.graph_objects as go\n",
    "\n",
    "import pickle"
   ]
  },
  {
   "cell_type": "code",
   "execution_count": 2,
   "metadata": {},
   "outputs": [],
   "source": [
    "# entrega de vuelta un diccionario con la extensión del archivo como llave, y el path a cada archivo como valor\n",
    "def find_files(path, extensions):\n",
    "    file_list = {ext: [] for ext in list(extensions)}\n",
    "    for root, dirs, files in os.walk(path):\n",
    "        for file in files:\n",
    "            for ext in extensions:\n",
    "                if file.endswith(ext):\n",
    "                    file_list[ext].append(os.path.join(root, file))\n",
    "\n",
    "    return file_list\n",
    "\n",
    "# Junta los archivos por carpeta y canal. Queda un diccionario que tiene como llave la carpeta y el canal, \n",
    "# y como valor una lista con los paths a los archivos de esa carpeta y canal.\n",
    "def sort_files(file_dic, extension):\n",
    "    # Diccionario para almacenar los archivos por carpeta y canal\n",
    "    grouped_files = defaultdict(list)\n",
    "    key_names = []\n",
    "    for file in file_dic[extension]:\n",
    "        # Extraer la carpeta y el canal del path del archivo\n",
    "        parts = file.split(\"\\\\\")\n",
    "        folder = parts[-2]  # La carpeta es el penúltimo elemento en el path\n",
    "        channel = parts[-1].split('_')[0]  # El canal es el primer elemento en el nombre del archivo\n",
    "        key = folder + \"\\\\\" + channel\n",
    "        if [key] not in key_names:\n",
    "            key_names.append([key])\n",
    "        # Agrupar los archivos\n",
    "        grouped_files[key].append(file)\n",
    "\n",
    "    key_names = list(itertools.chain(*key_names))\n",
    "    return grouped_files, key_names\n"
   ]
  },
  {
   "cell_type": "code",
   "execution_count": 3,
   "metadata": {},
   "outputs": [],
   "source": [
    "files_bhz = find_files('señales_sismos\\BHZ', ['.mseed'])\n",
    "files_bhz_ch, key_names_bhz = sort_files(files_bhz, '.mseed')"
   ]
  },
  {
   "cell_type": "code",
   "execution_count": 4,
   "metadata": {},
   "outputs": [
    {
     "name": "stdout",
     "output_type": "stream",
     "text": [
      "1 Trace(s) in Stream:\n",
      "C1.CO10..BHZ | 2021-07-04T00:00:00.000000Z - 2021-07-05T00:00:00.000000Z | 40.0 Hz, 3456001 samples\n",
      "1 Trace(s) in Stream:\n",
      "C1.AC04..BHZ | 2021-07-04T00:00:00.000000Z - 2021-07-05T00:00:00.000000Z | 40.0 Hz, 3456001 samples\n",
      "1 Trace(s) in Stream:\n",
      "C1.AC05..BHZ | 2021-07-04T00:00:00.000000Z - 2021-07-05T00:00:00.000000Z | 40.0 Hz, 3456001 samples\n",
      "1 Trace(s) in Stream:\n",
      "C1.CO05..BHZ | 2021-07-04T00:00:00.000000Z - 2021-07-05T00:00:00.000000Z | 40.0 Hz, 3456001 samples\n"
     ]
    }
   ],
   "source": [
    "#estación principal CO10\n",
    "main_st = files_bhz_ch[key_names_bhz[3]]\n",
    "st_main = read(main_st[0])\n",
    "st_main += read(main_st[1])\n",
    "st_main += read(main_st[2])\n",
    "st_main.filter('bandpass', freqmin=4.0, freqmax=10.0) \n",
    "print(st_main.select(channel='BHZ'))\n",
    "\n",
    "#estación adyacente 1: AC04\n",
    "adj_st_1 = files_bhz_ch[key_names_bhz[0]]\n",
    "st_adj_1 = read(adj_st_1[0])\n",
    "st_adj_1 += read(adj_st_1[1])\n",
    "st_adj_1 += read(adj_st_1[2])\n",
    "st_adj_1.filter('bandpass', freqmin=4.0, freqmax=10.0)\n",
    "print(st_adj_1.select(channel='BHZ'))\n",
    "\n",
    "#estación adyacente 2: AC05\n",
    "adj_st_2 = files_bhz_ch[key_names_bhz[1]]\n",
    "st_adj_2 = read(adj_st_2[0])\n",
    "st_adj_2 += read(adj_st_2[1])\n",
    "st_adj_2 += read(adj_st_2[2])\n",
    "st_adj_2.filter('bandpass', freqmin=4.0, freqmax=10.0)\n",
    "print(st_adj_2.select(channel='BHZ'))\n",
    "\n",
    "#estación adyacente 3: CO05\n",
    "adj_st_3 = files_bhz_ch[key_names_bhz[2]]\n",
    "st_adj_3 = read(adj_st_3[0])\n",
    "st_adj_3 += read(adj_st_3[1])\n",
    "st_adj_3 += read(adj_st_3[2])\n",
    "st_adj_3.filter('bandpass', freqmin=4.0, freqmax=10.0)\n",
    "print(st_adj_3.select(channel='BHZ'))"
   ]
  },
  {
   "cell_type": "code",
   "execution_count": 5,
   "metadata": {},
   "outputs": [],
   "source": [
    "# Que las estaciones partan en la hora 01:00:00 y terminen en la hora 04:30:00\n",
    "st_main = st_main.slice(starttime=UTCDateTime(2021, 7, 4, 1, 0, 0), endtime=UTCDateTime(2021, 7, 4, 4, 30, 0))\n",
    "st_adj_1 = st_adj_1.slice(starttime=UTCDateTime(2021, 7, 4, 1, 0, 0), endtime=UTCDateTime(2021, 7, 4, 4, 30, 0))\n",
    "st_adj_2 = st_adj_2.slice(starttime=UTCDateTime(2021, 7, 4, 1, 0, 0), endtime=UTCDateTime(2021, 7, 4, 4, 30, 0))\n",
    "st_adj_3 = st_adj_3.slice(starttime=UTCDateTime(2021, 7, 4, 1, 0, 0), endtime=UTCDateTime(2021, 7, 4, 4, 30, 0))"
   ]
  },
  {
   "cell_type": "code",
   "execution_count": 6,
   "metadata": {},
   "outputs": [
    {
     "data": {
      "text/plain": [
       "1 Trace(s) in Stream:\n",
       "C1.CO10..BHZ | 2021-07-04T01:00:00.000000Z - 2021-07-04T04:30:00.000000Z | 40.0 Hz, 504001 samples"
      ]
     },
     "execution_count": 6,
     "metadata": {},
     "output_type": "execute_result"
    }
   ],
   "source": [
    "st_main.select(channel='BHZ')"
   ]
  },
  {
   "cell_type": "code",
   "execution_count": 7,
   "metadata": {},
   "outputs": [],
   "source": [
    "coord_C010 = (-29.24, -71.46)\n",
    "coord_AC04 = (-28.20, -71.07)\n",
    "coord_AC05 = (-28.84, -70.27)\n",
    "coord_CO05 = (-29.92, -71.24)\n",
    "\n",
    "#Lista de estaciones\n",
    "stations = [st_main, st_adj_1, st_adj_2, st_adj_3]\n",
    "\n",
    "#Lista de Coordenadas\n",
    "coord_list = [coord_C010, coord_AC04, coord_AC05, coord_CO05]\n",
    "\n",
    "#Valores en segundos de las ventanas de tiempo en que se mueven las ventanas\n",
    "ventana_10s = 10\n",
    "ventana_30s = 30\n",
    "\n",
    "#Velocidad de propagación de la onda P\n",
    "v_P = 8.046 "
   ]
  },
  {
   "cell_type": "code",
   "execution_count": 9,
   "metadata": {},
   "outputs": [
    {
     "data": {
      "application/vnd.jupyter.widget-view+json": {
       "model_id": "2b7e970318934ce18548ddeb5f72bd0b",
       "version_major": 2,
       "version_minor": 0
      },
      "text/plain": [
       "  0%|          | 0/1452 [00:00<?, ?it/s]"
      ]
     },
     "metadata": {},
     "output_type": "display_data"
    },
    {
     "name": "stderr",
     "output_type": "stream",
     "text": [
      "ic| best_params: {(1.5, 8, 6, 3): 0}\n",
      "ic| best_params: {(1.5, 8, 5.5, 3): 0, (1.5, 8, 6, 3): 0}\n",
      "ic| best_params: {(1.5, 8, 5, 3): 0.5, (1.5, 8, 5.5, 3): 0, (1.5, 8, 6, 3): 0}\n",
      "ic| best_params: {(1.5, 8, 4.8, 3): 0.4727272727272727,\n",
      "                  (1.5, 8, 5, 3): 0.5,\n",
      "                  (1.5, 8, 5.5, 3): 0,\n",
      "                  (1.5, 8, 6, 3): 0}\n",
      "ic| best_params: {(1.5, 8, 4.5, 3): 0.44444444444444453,\n",
      "                  (1.5, 8, 4.8, 3): 0.4727272727272727,\n",
      "                  (1.5, 8, 5, 3): 0.5,\n",
      "                  (1.5, 8, 5.5, 3): 0,\n",
      "                  (1.5, 8, 6, 3): 0}\n",
      "ic| best_params: {(1.5, 8, 4.2, 3): 0.3595505617977528,\n",
      "                  (1.5, 8, 4.5, 3): 0.44444444444444453,\n",
      "                  (1.5, 8, 4.8, 3): 0.4727272727272727,\n",
      "                  (1.5, 8, 5, 3): 0.5,\n",
      "                  (1.5, 8, 5.5, 3): 0}\n",
      "ic| best_params: {(1.5, 8, 4, 3): 0.3300970873786408,\n",
      "                  (1.5, 8, 4.2, 3): 0.3595505617977528,\n",
      "                  (1.5, 8, 4.5, 3): 0.44444444444444453,\n",
      "                  (1.5, 8, 4.8, 3): 0.4727272727272727,\n",
      "                  (1.5, 8, 5, 3): 0.5}\n",
      "ic| best_params: {(1.5, 8, 4.2, 3): 0.3595505617977528,\n",
      "                  (1.5, 8, 4.5, 3): 0.44444444444444453,\n",
      "                  (1.5, 8, 4.8, 3): 0.4727272727272727,\n",
      "                  (1.5, 8, 5, 3): 0.5,\n",
      "                  (1.5, 8.5, 5, 3): 0.4482758620689655}\n",
      "ic| best_params: {(1.5, 8, 4.5, 3): 0.44444444444444453,\n",
      "                  (1.5, 8, 4.8, 3): 0.4727272727272727,\n",
      "                  (1.5, 8, 5, 3): 0.5,\n",
      "                  (1.5, 8.5, 5, 3): 0.4482758620689655,\n",
      "                  (1.5, 8.5, 5.5, 3): 0.5}\n",
      "ic| best_params: {(1.5, 8, 4.8, 3): 0.4727272727272727,\n",
      "                  (1.5, 8, 5, 3): 0.5,\n",
      "                  (1.5, 8.5, 5, 3): 0.4482758620689655,\n",
      "                  (1.5, 8.5, 5.5, 3): 0.5,\n",
      "                  (1.5, 9, 5.5, 3): 0.5}\n",
      "ic| best_params: {(1.5, 8, 4.8, 3): 0.4727272727272727,\n",
      "                  (1.5, 8, 5, 3): 0.5,\n",
      "                  (1.5, 8.5, 5.5, 3): 0.5,\n",
      "                  (1.5, 9, 5.5, 3): 0.5,\n",
      "                  (1.5, 9.5, 6, 3): 0.5365853658536585}\n",
      "ic| best_params: {(1.5, 8, 5, 3): 0.5,\n",
      "                  (1.5, 8.5, 5.5, 3): 0.5,\n",
      "                  (1.5, 9, 5.5, 3): 0.5,\n",
      "                  (1.5, 9.5, 6, 3): 0.5365853658536585,\n",
      "                  (1.5, 10, 6, 3): 0.5}\n",
      "ic| best_params: {(1.5, 8.5, 5.5, 3): 0.5,\n",
      "                  (1.5, 9, 5.5, 3): 0.5,\n",
      "                  (1.5, 9.5, 6, 3): 0.5365853658536585,\n",
      "                  (1.5, 10, 6, 3): 0.5,\n",
      "                  (1.6, 9, 5.5, 3): 0.5128205128205129}\n",
      "ic| best_params: {(1.5, 9, 5.5, 3): 0.5,\n",
      "                  (1.5, 9.5, 6, 3): 0.5365853658536585,\n",
      "                  (1.5, 10, 6, 3): 0.5,\n",
      "                  (1.6, 9, 5.5, 3): 0.5128205128205129,\n",
      "                  (1.6, 10.5, 6, 3): 0.5217391304347826}\n",
      "ic| best_params: {(1.5, 9.5, 6, 3): 0.5365853658536585,\n",
      "                  (1.5, 10, 6, 3): 0.5,\n",
      "                  (1.6, 9, 5.5, 3): 0.5128205128205129,\n",
      "                  (1.6, 10.5, 6, 3): 0.5217391304347826,\n",
      "                  (1.6, 11, 6, 3): 0.5098039215686274}\n",
      "ic| best_params: {(1.5, 9.5, 6, 3): 0.5365853658536585,\n",
      "                  (1.6, 9, 5.5, 3): 0.5128205128205129,\n",
      "                  (1.6, 10.5, 6, 3): 0.5217391304347826,\n",
      "                  (1.6, 11, 6, 3): 0.5098039215686274,\n",
      "                  (1.8, 8, 4.2, 3): 0.5098039215686274}\n",
      "ic| best_params: {(1.5, 9.5, 6, 3): 0.5365853658536585,\n",
      "                  (1.6, 9, 5.5, 3): 0.5128205128205129,\n",
      "                  (1.6, 10.5, 6, 3): 0.5217391304347826,\n",
      "                  (1.8, 8, 4.2, 3): 0.5098039215686274,\n",
      "                  (1.8, 9, 4.8, 3): 0.5116279069767442}\n",
      "ic| best_params: {(1.5, 9.5, 6, 3): 0.5365853658536585,\n",
      "                  (1.6, 9, 5.5, 3): 0.5128205128205129,\n",
      "                  (1.6, 10.5, 6, 3): 0.5217391304347826,\n",
      "                  (1.8, 9, 4.8, 3): 0.5116279069767442,\n",
      "                  (1.8, 9.5, 5, 3): 0.5454545454545455}\n",
      "ic| best_params: {(1.5, 9.5, 6, 3): 0.5365853658536585,\n",
      "                  (1.6, 9, 5.5, 3): 0.5128205128205129,\n",
      "                  (1.6, 10.5, 6, 3): 0.5217391304347826,\n",
      "                  (1.8, 9.5, 5, 3): 0.5454545454545455,\n",
      "                  (1.8, 10, 5.5, 3): 0.5806451612903226}\n",
      "ic| best_params: {(1.5, 9.5, 6, 3): 0.5365853658536585,\n",
      "                  (1.6, 10.5, 6, 3): 0.5217391304347826,\n",
      "                  (1.8, 9.5, 5, 3): 0.5454545454545455,\n",
      "                  (1.8, 10, 5.5, 3): 0.5806451612903226,\n",
      "                  (1.8, 10.5, 5.5, 3): 0.5365853658536585}\n",
      "ic| best_params: {(1.5, 9.5, 6, 3): 0.5365853658536585,\n",
      "                  (1.8, 9.5, 5, 3): 0.5454545454545455,\n",
      "                  (1.8, 10, 5.5, 3): 0.5806451612903226,\n",
      "                  (1.8, 10.5, 5.5, 3): 0.5365853658536585,\n",
      "                  (1.8, 11, 6, 3): 0.5882352941176471}\n",
      "ic| best_params: {(1.8, 9.5, 5, 3): 0.5454545454545455,\n",
      "                  (1.8, 10, 5.5, 3): 0.5806451612903226,\n",
      "                  (1.8, 10.5, 5.5, 3): 0.5365853658536585,\n",
      "                  (1.8, 11, 6, 3): 0.5882352941176471,\n",
      "                  (1.9, 8, 4.2, 3): 0.5714285714285714}\n",
      "ic| best_params: {(1.8, 9.5, 5, 3): 0.5454545454545455,\n",
      "                  (1.8, 10, 5.5, 3): 0.5806451612903226,\n",
      "                  (1.8, 11, 6, 3): 0.5882352941176471,\n",
      "                  (1.9, 8, 4.2, 3): 0.5714285714285714,\n",
      "                  (1.9, 10, 5, 3): 0.558139534883721}\n",
      "ic| best_params: {(1.8, 10, 5.5, 3): 0.5806451612903226,\n",
      "                  (1.8, 11, 6, 3): 0.5882352941176471,\n",
      "                  (1.9, 8, 4.2, 3): 0.5714285714285714,\n",
      "                  (1.9, 10, 5, 3): 0.558139534883721,\n",
      "                  (1.9, 10.5, 5.5, 3): 0.5517241379310345}\n",
      "ic| best_params: {(1.8, 10, 5.5, 3): 0.5806451612903226,\n",
      "                  (1.8, 11, 6, 3): 0.5882352941176471,\n",
      "                  (1.9, 8, 4.2, 3): 0.5714285714285714,\n",
      "                  (1.9, 10, 5, 3): 0.558139534883721,\n",
      "                  (2, 8.5, 4.2, 3): 0.5714285714285715}\n",
      "ic| best_params: {(1.8, 10, 5.5, 3): 0.5806451612903226,\n",
      "                  (1.8, 11, 6, 3): 0.5882352941176471,\n",
      "                  (1.9, 8, 4.2, 3): 0.5714285714285714,\n",
      "                  (2, 8.5, 4.2, 3): 0.5714285714285715,\n",
      "                  (2.2, 10, 4.5, 3): 0.5882352941176471}\n",
      "ic| best_params: {(1.8, 10, 5.5, 3): 0.5806451612903226,\n",
      "                  (1.8, 11, 6, 3): 0.5882352941176471,\n",
      "                  (2, 8.5, 4.2, 3): 0.5714285714285715,\n",
      "                  (2.2, 10, 4.5, 3): 0.5882352941176471}\n",
      "ic| best_params: {(1.8, 10, 5.5, 3): 0.5806451612903226,\n",
      "                  (1.8, 11, 6, 3): 0.5882352941176471,\n",
      "                  (2, 8.5, 4.2, 3): 0.5714285714285715,\n",
      "                  (2, 8.5, 5.5, 3): 0,\n",
      "                  (2.2, 10, 4.5, 3): 0.5882352941176471}\n",
      "ic| best_params: {(1.8, 10, 5.5, 3): 0.5806451612903226,\n",
      "                  (1.8, 11, 6, 3): 0.5882352941176471,\n",
      "                  (2, 8.5, 4, 3): 0.490566037735849,\n",
      "                  (2, 8.5, 4.2, 3): 0.5714285714285715,\n",
      "                  (2.2, 10, 4.5, 3): 0.5882352941176471}\n",
      "ic| best_params: {(1.8, 10, 5.5, 3): 0.5806451612903226,\n",
      "                  (1.8, 11, 6, 3): 0.5882352941176471,\n",
      "                  (2, 8.5, 4.2, 3): 0.5714285714285715,\n",
      "                  (2, 9.5, 4.5, 3): 0.5333333333333333,\n",
      "                  (2.2, 10, 4.5, 3): 0.5882352941176471}\n",
      "ic| best_params: {(1.8, 10, 5.5, 3): 0.5806451612903226,\n",
      "                  (1.8, 11, 6, 3): 0.5882352941176471,\n",
      "                  (2, 8.5, 4.2, 3): 0.5714285714285715,\n",
      "                  (2, 10, 4.8, 3): 0.5365853658536585,\n",
      "                  (2.2, 10, 4.5, 3): 0.5882352941176471}\n",
      "ic| best_params: {(1.8, 10, 5.5, 3): 0.5806451612903226,\n",
      "                  (1.8, 11, 6, 3): 0.5882352941176471,\n",
      "                  (2, 8.5, 4.2, 3): 0.5714285714285715,\n",
      "                  (2, 11, 5, 3): 0.5490196078431372,\n",
      "                  (2.2, 10, 4.5, 3): 0.5882352941176471}\n",
      "ic| best_params: {(1.8, 10, 5.5, 3): 0.5806451612903226,\n",
      "                  (1.8, 11, 6, 3): 0.5882352941176471,\n",
      "                  (2, 8.5, 4.2, 3): 0.5714285714285715,\n",
      "                  (2.2, 10, 4.5, 3): 0.5882352941176471}\n",
      "ic| best_params: {(1.8, 10, 5.5, 3): 0.5806451612903226,\n",
      "                  (1.8, 11, 6, 3): 0.5882352941176471,\n",
      "                  (2, 8.5, 4.2, 3): 0.5714285714285715,\n",
      "                  (2, 8.5, 5.5, 3): 0,\n",
      "                  (2.2, 10, 4.5, 3): 0.5882352941176471}\n",
      "ic| best_params: {(1.8, 10, 5.5, 3): 0.5806451612903226,\n",
      "                  (1.8, 11, 6, 3): 0.5882352941176471,\n",
      "                  (2, 8.5, 4, 3): 0.490566037735849,\n",
      "                  (2, 8.5, 4.2, 3): 0.5714285714285715,\n",
      "                  (2.2, 10, 4.5, 3): 0.5882352941176471}\n",
      "ic| best_params: {(1.8, 10, 5.5, 3): 0.5806451612903226,\n",
      "                  (1.8, 11, 6, 3): 0.5882352941176471,\n",
      "                  (2, 8.5, 4.2, 3): 0.5714285714285715,\n",
      "                  (2, 9.5, 4.5, 3): 0.5333333333333333,\n",
      "                  (2.2, 10, 4.5, 3): 0.5882352941176471}\n",
      "ic| best_params: {(1.8, 10, 5.5, 3): 0.5806451612903226,\n",
      "                  (1.8, 11, 6, 3): 0.5882352941176471,\n",
      "                  (2, 8.5, 4.2, 3): 0.5714285714285715,\n",
      "                  (2, 10, 4.8, 3): 0.5365853658536585,\n",
      "                  (2.2, 10, 4.5, 3): 0.5882352941176471}\n",
      "ic| best_params: {(1.8, 10, 5.5, 3): 0.5806451612903226,\n",
      "                  (1.8, 11, 6, 3): 0.5882352941176471,\n",
      "                  (2, 8.5, 4.2, 3): 0.5714285714285715,\n",
      "                  (2, 11, 5, 3): 0.5490196078431372,\n",
      "                  (2.2, 10, 4.5, 3): 0.5882352941176471}\n"
     ]
    }
   ],
   "source": [
    "\n",
    "# rango de parámetros a probar\n",
    "nsta_values = [1.5, 1.6, 1.8, 1.9, 2, 2.2, 2.3, 2,5, 2,7]\n",
    "nlta_values = [8, 8.5, 9, 9.5, 10, 10.5, 11, 12, 12.4, 12.6, 12.8]\n",
    "thr_on_values = [3, 3.2, 3.6, 3.7, 3.8, 4, 4.2, 4.5, 4.8, 5, 5.5, 6]\n",
    "thr_off = 3 # solo sirve al momento de hacer plot_trigger, por lo que no es necesario cambiarlo para buscar eventos\n",
    "\n",
    "best_params, worst_params = optimize_parameters(nsta_values, nlta_values, thr_on_values, thr_off, stations, ventana_10s, ventana_30s, v_P, coord_list)\n"
   ]
  },
  {
   "cell_type": "code",
   "execution_count": 10,
   "metadata": {},
   "outputs": [],
   "source": [
    "best_params =(1.5, 12.4, 6.5, 3)"
   ]
  },
  {
   "cell_type": "code",
   "execution_count": 10,
   "metadata": {},
   "outputs": [],
   "source": [
    "with open('times_events_24hrs_chiquito.txt', 'r') as f:\n",
    "    reader = csv.reader(f)\n",
    "    next(reader)  # Saltar la cabecera\n",
    "    tiempos_reales = [datetime.strptime(row[0], '%Y-%m-%dT%H:%M:%S') for row in reader]\n",
    "    "
   ]
  },
  {
   "cell_type": "code",
   "execution_count": 11,
   "metadata": {},
   "outputs": [
    {
     "data": {
      "text/plain": [
       "17"
      ]
     },
     "execution_count": 11,
     "metadata": {},
     "output_type": "execute_result"
    }
   ],
   "source": [
    "len(tiempos_reales)"
   ]
  },
  {
   "cell_type": "code",
   "execution_count": 12,
   "metadata": {},
   "outputs": [],
   "source": [
    "# Parámetros óptimos encontrados\n",
    "nsta, nlta, thr_on, thr_off = (2.2, 10, 4.5, 3) # hacer nsta más grande, hace más chico el ratio. Hacer más grande nlta hace más grande el ratio\n",
    "time_all = p_picking(stations, ventana_10s, ventana_30s, nsta, nlta, v_P, coord_list, thr_on, thr_off)"
   ]
  },
  {
   "cell_type": "code",
   "execution_count": 13,
   "metadata": {},
   "outputs": [],
   "source": [
    "with open('time_trigger_chiquito.txt', 'w') as archivo:\n",
    "    archivo.write('\\n'.join(str(time) for time in time_all))"
   ]
  },
  {
   "cell_type": "code",
   "execution_count": 14,
   "metadata": {},
   "outputs": [],
   "source": [
    "# Función para leer tiempos de un archivo\n",
    "def read_times(filename, time_format, skip_header=True):\n",
    "    with open(filename, 'r') as f:\n",
    "        reader = csv.reader(f)\n",
    "        if skip_header:\n",
    "            next(reader)  # Saltar la cabecera\n",
    "        return [datetime.strptime(row[0], time_format) for row in reader]\n",
    "\n",
    "# Leer tiempos reales y predichos\n",
    "tiempos_reales = read_times('times_events_24hrs_chiquito.txt', '%Y-%m-%dT%H:%M:%S')\n",
    "tiempos_predichos = read_times('time_trigger_chiquito.txt', '%Y-%m-%dT%H:%M:%S.%fZ', skip_header=False)\n",
    "\n",
    "# Crear conjuntos con tiempos reales y predichos sin segundos\n",
    "conjunto_reales = set([t.replace(second=0) for t in tiempos_reales])\n",
    "conjunto_predichos = set([t.replace(second=0, microsecond=0) for t in tiempos_predichos])\n",
    "\n",
    "# Calcular verdaderos positivos, falsos positivos y falsos negativos\n",
    "verdaderos_positivos = conjunto_reales & conjunto_predichos\n",
    "falsos_positivos = conjunto_predichos - conjunto_reales\n",
    "falsos_negativos = conjunto_reales - conjunto_predichos\n",
    "\n",
    "resultados = {'Verdaderos Positivos': len(verdaderos_positivos),\n",
    "              'Falsos Positivos': len(falsos_positivos),\n",
    "              'Falsos Negativos': len(falsos_negativos)}\n",
    "\n",
    "# Crear diccionarios para mapear cada tiempo a su segundo correspondiente\n",
    "dict_tiempos_reales = {t.replace(second=0): t.second for t in tiempos_reales}\n",
    "dict_tiempos_predichos = {t.replace(second=0, microsecond=0): t.second for t in tiempos_predichos}\n",
    "\n",
    "# Esto siguiente es para poder tener los tiempos con los segundos, y no solo las horas y minutos\n",
    "v_positivos = sorted([t.replace(second=dict_tiempos_predichos[t]) for t in verdaderos_positivos])\n",
    "f_positivos = sorted([t.replace(second=dict_tiempos_predichos[t]) for t in falsos_positivos])\n",
    "f_negativos = sorted([t.replace(second=dict_tiempos_reales[t]) for t in falsos_negativos])\n",
    "\n",
    "\n",
    "# Leer magnitudes de un archivo\n",
    "with open('times_events_24hrs_chiquito.txt', 'r') as f:\n",
    "    reader = csv.reader(f)\n",
    "    next(reader)  # Saltar la cabecera\n",
    "    magnitudes = {datetime.strptime(row[0], '%Y-%m-%dT%H:%M:%S'): float(row[1]) for row in reader}\n",
    "\n",
    "# Mapear cada verdadero positivo a su magnitud correspondiente\n",
    "# Mapear cada verdadero positivo a su magnitud correspondiente usando los tiempos reales\n",
    "t_real_v_positivos = sorted([datetime(t.year, t.month, t.day, t.hour, t.minute, dict_tiempos_reales[t]) for t in verdaderos_positivos])\n",
    "t_real_v_positivos = [datetime.strptime(t.isoformat(), '%Y-%m-%dT%H:%M:%S') for t in t_real_v_positivos]\n",
    "magnitudes_verdaderos_positivos = {t: magnitudes[t] for t in t_real_v_positivos}"
   ]
  },
  {
   "cell_type": "code",
   "execution_count": 24,
   "metadata": {},
   "outputs": [
    {
     "data": {
      "application/vnd.plotly.v1+json": {
       "config": {
        "plotlyServerURL": "https://plot.ly"
       },
       "data": [
        {
         "marker": {
          "color": [
           5.9,
           3.6,
           5.8,
           4,
           4.1,
           3.6,
           3.7,
           3.7,
           3.5,
           3.6,
           3.7,
           3.6,
           4.6,
           3.9,
           3.9,
           4.4,
           4,
           3.9,
           3.7,
           3.9,
           4.6,
           4.3,
           4,
           3.8,
           4.4
          ],
          "colorbar": {
           "title": {
            "text": "Magnitud"
           }
          },
          "colorscale": [
           [
            0,
            "rgb(0,0,131)"
           ],
           [
            0.2,
            "rgb(0,60,170)"
           ],
           [
            0.4,
            "rgb(5,255,255)"
           ],
           [
            0.6,
            "rgb(255,255,0)"
           ],
           [
            0.8,
            "rgb(250,0,0)"
           ],
           [
            1,
            "rgb(128,0,0)"
           ]
          ],
          "size": 10
         },
         "mode": "markers",
         "name": "Magnitudes",
         "type": "scatter",
         "x": [
          "2021-07-04T01:01:37",
          "2021-07-04T01:07:22",
          "2021-07-04T01:29:15",
          "2021-07-04T01:34:42",
          "2021-07-04T01:36:16",
          "2021-07-04T01:50:43",
          "2021-07-04T01:57:43",
          "2021-07-04T02:05:56",
          "2021-07-04T02:07:44",
          "2021-07-04T02:08:29",
          "2021-07-04T02:18:28",
          "2021-07-04T02:28:58",
          "2021-07-04T02:57:48",
          "2021-07-04T03:07:42",
          "2021-07-04T03:51:03",
          "2021-07-04T04:03:22",
          "2021-07-04T04:08:09"
         ],
         "y": [
          5.9,
          3.6,
          5.8,
          4,
          4.1,
          3.6,
          3.7,
          3.7,
          3.5,
          3.6,
          3.7,
          3.6,
          4.6,
          3.9,
          3.9,
          4.4,
          4,
          3.9,
          3.7,
          3.9,
          4.6,
          4.3,
          4,
          3.8,
          4.4
         ]
        }
       ],
       "layout": {
        "font": {
         "color": "white",
         "family": "Arial",
         "size": 12
        },
        "height": 600,
        "paper_bgcolor": "dimgray",
        "plot_bgcolor": "dimgray",
        "template": {
         "data": {
          "bar": [
           {
            "error_x": {
             "color": "#2a3f5f"
            },
            "error_y": {
             "color": "#2a3f5f"
            },
            "marker": {
             "line": {
              "color": "#E5ECF6",
              "width": 0.5
             },
             "pattern": {
              "fillmode": "overlay",
              "size": 10,
              "solidity": 0.2
             }
            },
            "type": "bar"
           }
          ],
          "barpolar": [
           {
            "marker": {
             "line": {
              "color": "#E5ECF6",
              "width": 0.5
             },
             "pattern": {
              "fillmode": "overlay",
              "size": 10,
              "solidity": 0.2
             }
            },
            "type": "barpolar"
           }
          ],
          "carpet": [
           {
            "aaxis": {
             "endlinecolor": "#2a3f5f",
             "gridcolor": "white",
             "linecolor": "white",
             "minorgridcolor": "white",
             "startlinecolor": "#2a3f5f"
            },
            "baxis": {
             "endlinecolor": "#2a3f5f",
             "gridcolor": "white",
             "linecolor": "white",
             "minorgridcolor": "white",
             "startlinecolor": "#2a3f5f"
            },
            "type": "carpet"
           }
          ],
          "choropleth": [
           {
            "colorbar": {
             "outlinewidth": 0,
             "ticks": ""
            },
            "type": "choropleth"
           }
          ],
          "contour": [
           {
            "colorbar": {
             "outlinewidth": 0,
             "ticks": ""
            },
            "colorscale": [
             [
              0,
              "#0d0887"
             ],
             [
              0.1111111111111111,
              "#46039f"
             ],
             [
              0.2222222222222222,
              "#7201a8"
             ],
             [
              0.3333333333333333,
              "#9c179e"
             ],
             [
              0.4444444444444444,
              "#bd3786"
             ],
             [
              0.5555555555555556,
              "#d8576b"
             ],
             [
              0.6666666666666666,
              "#ed7953"
             ],
             [
              0.7777777777777778,
              "#fb9f3a"
             ],
             [
              0.8888888888888888,
              "#fdca26"
             ],
             [
              1,
              "#f0f921"
             ]
            ],
            "type": "contour"
           }
          ],
          "contourcarpet": [
           {
            "colorbar": {
             "outlinewidth": 0,
             "ticks": ""
            },
            "type": "contourcarpet"
           }
          ],
          "heatmap": [
           {
            "colorbar": {
             "outlinewidth": 0,
             "ticks": ""
            },
            "colorscale": [
             [
              0,
              "#0d0887"
             ],
             [
              0.1111111111111111,
              "#46039f"
             ],
             [
              0.2222222222222222,
              "#7201a8"
             ],
             [
              0.3333333333333333,
              "#9c179e"
             ],
             [
              0.4444444444444444,
              "#bd3786"
             ],
             [
              0.5555555555555556,
              "#d8576b"
             ],
             [
              0.6666666666666666,
              "#ed7953"
             ],
             [
              0.7777777777777778,
              "#fb9f3a"
             ],
             [
              0.8888888888888888,
              "#fdca26"
             ],
             [
              1,
              "#f0f921"
             ]
            ],
            "type": "heatmap"
           }
          ],
          "heatmapgl": [
           {
            "colorbar": {
             "outlinewidth": 0,
             "ticks": ""
            },
            "colorscale": [
             [
              0,
              "#0d0887"
             ],
             [
              0.1111111111111111,
              "#46039f"
             ],
             [
              0.2222222222222222,
              "#7201a8"
             ],
             [
              0.3333333333333333,
              "#9c179e"
             ],
             [
              0.4444444444444444,
              "#bd3786"
             ],
             [
              0.5555555555555556,
              "#d8576b"
             ],
             [
              0.6666666666666666,
              "#ed7953"
             ],
             [
              0.7777777777777778,
              "#fb9f3a"
             ],
             [
              0.8888888888888888,
              "#fdca26"
             ],
             [
              1,
              "#f0f921"
             ]
            ],
            "type": "heatmapgl"
           }
          ],
          "histogram": [
           {
            "marker": {
             "pattern": {
              "fillmode": "overlay",
              "size": 10,
              "solidity": 0.2
             }
            },
            "type": "histogram"
           }
          ],
          "histogram2d": [
           {
            "colorbar": {
             "outlinewidth": 0,
             "ticks": ""
            },
            "colorscale": [
             [
              0,
              "#0d0887"
             ],
             [
              0.1111111111111111,
              "#46039f"
             ],
             [
              0.2222222222222222,
              "#7201a8"
             ],
             [
              0.3333333333333333,
              "#9c179e"
             ],
             [
              0.4444444444444444,
              "#bd3786"
             ],
             [
              0.5555555555555556,
              "#d8576b"
             ],
             [
              0.6666666666666666,
              "#ed7953"
             ],
             [
              0.7777777777777778,
              "#fb9f3a"
             ],
             [
              0.8888888888888888,
              "#fdca26"
             ],
             [
              1,
              "#f0f921"
             ]
            ],
            "type": "histogram2d"
           }
          ],
          "histogram2dcontour": [
           {
            "colorbar": {
             "outlinewidth": 0,
             "ticks": ""
            },
            "colorscale": [
             [
              0,
              "#0d0887"
             ],
             [
              0.1111111111111111,
              "#46039f"
             ],
             [
              0.2222222222222222,
              "#7201a8"
             ],
             [
              0.3333333333333333,
              "#9c179e"
             ],
             [
              0.4444444444444444,
              "#bd3786"
             ],
             [
              0.5555555555555556,
              "#d8576b"
             ],
             [
              0.6666666666666666,
              "#ed7953"
             ],
             [
              0.7777777777777778,
              "#fb9f3a"
             ],
             [
              0.8888888888888888,
              "#fdca26"
             ],
             [
              1,
              "#f0f921"
             ]
            ],
            "type": "histogram2dcontour"
           }
          ],
          "mesh3d": [
           {
            "colorbar": {
             "outlinewidth": 0,
             "ticks": ""
            },
            "type": "mesh3d"
           }
          ],
          "parcoords": [
           {
            "line": {
             "colorbar": {
              "outlinewidth": 0,
              "ticks": ""
             }
            },
            "type": "parcoords"
           }
          ],
          "pie": [
           {
            "automargin": true,
            "type": "pie"
           }
          ],
          "scatter": [
           {
            "fillpattern": {
             "fillmode": "overlay",
             "size": 10,
             "solidity": 0.2
            },
            "type": "scatter"
           }
          ],
          "scatter3d": [
           {
            "line": {
             "colorbar": {
              "outlinewidth": 0,
              "ticks": ""
             }
            },
            "marker": {
             "colorbar": {
              "outlinewidth": 0,
              "ticks": ""
             }
            },
            "type": "scatter3d"
           }
          ],
          "scattercarpet": [
           {
            "marker": {
             "colorbar": {
              "outlinewidth": 0,
              "ticks": ""
             }
            },
            "type": "scattercarpet"
           }
          ],
          "scattergeo": [
           {
            "marker": {
             "colorbar": {
              "outlinewidth": 0,
              "ticks": ""
             }
            },
            "type": "scattergeo"
           }
          ],
          "scattergl": [
           {
            "marker": {
             "colorbar": {
              "outlinewidth": 0,
              "ticks": ""
             }
            },
            "type": "scattergl"
           }
          ],
          "scattermapbox": [
           {
            "marker": {
             "colorbar": {
              "outlinewidth": 0,
              "ticks": ""
             }
            },
            "type": "scattermapbox"
           }
          ],
          "scatterpolar": [
           {
            "marker": {
             "colorbar": {
              "outlinewidth": 0,
              "ticks": ""
             }
            },
            "type": "scatterpolar"
           }
          ],
          "scatterpolargl": [
           {
            "marker": {
             "colorbar": {
              "outlinewidth": 0,
              "ticks": ""
             }
            },
            "type": "scatterpolargl"
           }
          ],
          "scatterternary": [
           {
            "marker": {
             "colorbar": {
              "outlinewidth": 0,
              "ticks": ""
             }
            },
            "type": "scatterternary"
           }
          ],
          "surface": [
           {
            "colorbar": {
             "outlinewidth": 0,
             "ticks": ""
            },
            "colorscale": [
             [
              0,
              "#0d0887"
             ],
             [
              0.1111111111111111,
              "#46039f"
             ],
             [
              0.2222222222222222,
              "#7201a8"
             ],
             [
              0.3333333333333333,
              "#9c179e"
             ],
             [
              0.4444444444444444,
              "#bd3786"
             ],
             [
              0.5555555555555556,
              "#d8576b"
             ],
             [
              0.6666666666666666,
              "#ed7953"
             ],
             [
              0.7777777777777778,
              "#fb9f3a"
             ],
             [
              0.8888888888888888,
              "#fdca26"
             ],
             [
              1,
              "#f0f921"
             ]
            ],
            "type": "surface"
           }
          ],
          "table": [
           {
            "cells": {
             "fill": {
              "color": "#EBF0F8"
             },
             "line": {
              "color": "white"
             }
            },
            "header": {
             "fill": {
              "color": "#C8D4E3"
             },
             "line": {
              "color": "white"
             }
            },
            "type": "table"
           }
          ]
         },
         "layout": {
          "annotationdefaults": {
           "arrowcolor": "#2a3f5f",
           "arrowhead": 0,
           "arrowwidth": 1
          },
          "autotypenumbers": "strict",
          "coloraxis": {
           "colorbar": {
            "outlinewidth": 0,
            "ticks": ""
           }
          },
          "colorscale": {
           "diverging": [
            [
             0,
             "#8e0152"
            ],
            [
             0.1,
             "#c51b7d"
            ],
            [
             0.2,
             "#de77ae"
            ],
            [
             0.3,
             "#f1b6da"
            ],
            [
             0.4,
             "#fde0ef"
            ],
            [
             0.5,
             "#f7f7f7"
            ],
            [
             0.6,
             "#e6f5d0"
            ],
            [
             0.7,
             "#b8e186"
            ],
            [
             0.8,
             "#7fbc41"
            ],
            [
             0.9,
             "#4d9221"
            ],
            [
             1,
             "#276419"
            ]
           ],
           "sequential": [
            [
             0,
             "#0d0887"
            ],
            [
             0.1111111111111111,
             "#46039f"
            ],
            [
             0.2222222222222222,
             "#7201a8"
            ],
            [
             0.3333333333333333,
             "#9c179e"
            ],
            [
             0.4444444444444444,
             "#bd3786"
            ],
            [
             0.5555555555555556,
             "#d8576b"
            ],
            [
             0.6666666666666666,
             "#ed7953"
            ],
            [
             0.7777777777777778,
             "#fb9f3a"
            ],
            [
             0.8888888888888888,
             "#fdca26"
            ],
            [
             1,
             "#f0f921"
            ]
           ],
           "sequentialminus": [
            [
             0,
             "#0d0887"
            ],
            [
             0.1111111111111111,
             "#46039f"
            ],
            [
             0.2222222222222222,
             "#7201a8"
            ],
            [
             0.3333333333333333,
             "#9c179e"
            ],
            [
             0.4444444444444444,
             "#bd3786"
            ],
            [
             0.5555555555555556,
             "#d8576b"
            ],
            [
             0.6666666666666666,
             "#ed7953"
            ],
            [
             0.7777777777777778,
             "#fb9f3a"
            ],
            [
             0.8888888888888888,
             "#fdca26"
            ],
            [
             1,
             "#f0f921"
            ]
           ]
          },
          "colorway": [
           "#636efa",
           "#EF553B",
           "#00cc96",
           "#ab63fa",
           "#FFA15A",
           "#19d3f3",
           "#FF6692",
           "#B6E880",
           "#FF97FF",
           "#FECB52"
          ],
          "font": {
           "color": "#2a3f5f"
          },
          "geo": {
           "bgcolor": "white",
           "lakecolor": "white",
           "landcolor": "#E5ECF6",
           "showlakes": true,
           "showland": true,
           "subunitcolor": "white"
          },
          "hoverlabel": {
           "align": "left"
          },
          "hovermode": "closest",
          "mapbox": {
           "style": "light"
          },
          "paper_bgcolor": "white",
          "plot_bgcolor": "#E5ECF6",
          "polar": {
           "angularaxis": {
            "gridcolor": "white",
            "linecolor": "white",
            "ticks": ""
           },
           "bgcolor": "#E5ECF6",
           "radialaxis": {
            "gridcolor": "white",
            "linecolor": "white",
            "ticks": ""
           }
          },
          "scene": {
           "xaxis": {
            "backgroundcolor": "#E5ECF6",
            "gridcolor": "white",
            "gridwidth": 2,
            "linecolor": "white",
            "showbackground": true,
            "ticks": "",
            "zerolinecolor": "white"
           },
           "yaxis": {
            "backgroundcolor": "#E5ECF6",
            "gridcolor": "white",
            "gridwidth": 2,
            "linecolor": "white",
            "showbackground": true,
            "ticks": "",
            "zerolinecolor": "white"
           },
           "zaxis": {
            "backgroundcolor": "#E5ECF6",
            "gridcolor": "white",
            "gridwidth": 2,
            "linecolor": "white",
            "showbackground": true,
            "ticks": "",
            "zerolinecolor": "white"
           }
          },
          "shapedefaults": {
           "line": {
            "color": "#2a3f5f"
           }
          },
          "ternary": {
           "aaxis": {
            "gridcolor": "white",
            "linecolor": "white",
            "ticks": ""
           },
           "baxis": {
            "gridcolor": "white",
            "linecolor": "white",
            "ticks": ""
           },
           "bgcolor": "#E5ECF6",
           "caxis": {
            "gridcolor": "white",
            "linecolor": "white",
            "ticks": ""
           }
          },
          "title": {
           "x": 0.05
          },
          "xaxis": {
           "automargin": true,
           "gridcolor": "white",
           "linecolor": "white",
           "ticks": "",
           "title": {
            "standoff": 15
           },
           "zerolinecolor": "white",
           "zerolinewidth": 2
          },
          "yaxis": {
           "automargin": true,
           "gridcolor": "white",
           "linecolor": "white",
           "ticks": "",
           "title": {
            "standoff": 15
           },
           "zerolinecolor": "white",
           "zerolinewidth": 2
          }
         }
        },
        "title": {
         "font": {
          "color": "white",
          "size": 20
         },
         "text": "Magnitudes de los eventos sísmicos catalogados en tiempo determinado superiores a 3.5"
        },
        "width": 1300,
        "xaxis": {
         "tickangle": -45,
         "tickformat": "%Y-%m-%d %H:%M:%S",
         "title": {
          "text": "Tiempo Real"
         },
         "type": "date"
        },
        "yaxis": {
         "title": {
          "text": "Magnitud"
         }
        }
       }
      }
     },
     "metadata": {},
     "output_type": "display_data"
    }
   ],
   "source": [
    "# Leer magnitudes\n",
    "magnitudes_real = []\n",
    "with open('times_events_24hrs.txt', 'r') as f:\n",
    "    reader = csv.DictReader(f)\n",
    "    for row in reader:\n",
    "        magnitudes_real.append(float(row['Magnitud']))\n",
    "\n",
    "# Utilizar una paleta de colores\n",
    "cmap = sns.color_palette(\"viridis\", as_cmap=True)\n",
    "\n",
    "# Crear un objeto de figura de Plotly\n",
    "fig_magnitud = go.Figure()\n",
    "\n",
    "# Agregar la traza de dispersión al objeto de figura\n",
    "fig_magnitud.add_trace(go.Scatter(\n",
    "    x=tiempos_reales,\n",
    "    y=magnitudes_real,\n",
    "    mode='markers',\n",
    "    name='Magnitudes',\n",
    "    marker=dict(\n",
    "        color=magnitudes_real,\n",
    "        colorscale='Jet',\n",
    "        size=10,\n",
    "        colorbar=dict(\n",
    "            title='Magnitud',\n",
    "        )\n",
    "    )\n",
    "))\n",
    "\n",
    "# Personalizar diseño\n",
    "fig_magnitud.update_layout(\n",
    "    title='Magnitudes de los eventos sísmicos catalogados en tiempo determinado superiores a 3.5',\n",
    "    xaxis_title='Tiempo Real',\n",
    "    xaxis=dict(\n",
    "        tickformat='%Y-%m-%d %H:%M:%S',\n",
    "        tickangle=-45,\n",
    "        type='date'\n",
    "    ),\n",
    "    yaxis_title='Magnitud',\n",
    "    font=dict(family=\"Arial\", size=12, color=\"white\"),\n",
    "    height=600,  # Ajustar la altura del gráfico\n",
    "    width=1300,    # Ajustar el ancho del gráfico\n",
    "    paper_bgcolor='dimgray',      # Cambiar el color de fondo del gráfico\n",
    "    plot_bgcolor='dimgray',       # Cambiar el color de fondo de la trama\n",
    "    title_font=dict(size=20, color=\"white\")  # Ajustar el tamaño y color del título\n",
    ")\n",
    "\n",
    "# Mostrar gráfico interactivo\n",
    "fig_magnitud.show()"
   ]
  },
  {
   "cell_type": "code",
   "execution_count": 18,
   "metadata": {},
   "outputs": [
    {
     "data": {
      "application/vnd.plotly.v1+json": {
       "config": {
        "plotlyServerURL": "https://plot.ly"
       },
       "data": [
        {
         "alignmentgroup": "True",
         "hovertemplate": "Categorías=%{x}<br>Cantidad=%{y}<extra></extra>",
         "legendgroup": "Verdaderos Positivos",
         "marker": {
          "color": "rgb(76,114,176)",
          "pattern": {
           "shape": ""
          }
         },
         "name": "Verdaderos Positivos",
         "offsetgroup": "Verdaderos Positivos",
         "orientation": "v",
         "showlegend": true,
         "textposition": "auto",
         "type": "bar",
         "x": [
          "Verdaderos Positivos"
         ],
         "xaxis": "x",
         "y": [
          10
         ],
         "yaxis": "y"
        },
        {
         "alignmentgroup": "True",
         "hovertemplate": "Categorías=%{x}<br>Cantidad=%{y}<extra></extra>",
         "legendgroup": "Falsos Positivos",
         "marker": {
          "color": "rgb(221,132,82)",
          "pattern": {
           "shape": ""
          }
         },
         "name": "Falsos Positivos",
         "offsetgroup": "Falsos Positivos",
         "orientation": "v",
         "showlegend": true,
         "textposition": "auto",
         "type": "bar",
         "x": [
          "Falsos Positivos"
         ],
         "xaxis": "x",
         "y": [
          7
         ],
         "yaxis": "y"
        },
        {
         "alignmentgroup": "True",
         "hovertemplate": "Categorías=%{x}<br>Cantidad=%{y}<extra></extra>",
         "legendgroup": "Falsos Negativos",
         "marker": {
          "color": "rgb(85,168,104)",
          "pattern": {
           "shape": ""
          }
         },
         "name": "Falsos Negativos",
         "offsetgroup": "Falsos Negativos",
         "orientation": "v",
         "showlegend": true,
         "textposition": "auto",
         "type": "bar",
         "x": [
          "Falsos Negativos"
         ],
         "xaxis": "x",
         "y": [
          7
         ],
         "yaxis": "y"
        }
       ],
       "layout": {
        "barmode": "relative",
        "font": {
         "color": "white",
         "family": "Arial",
         "size": 12
        },
        "height": 500,
        "legend": {
         "title": {
          "text": "Categorías"
         },
         "tracegroupgap": 0
        },
        "margin": {
         "t": 60
        },
        "paper_bgcolor": "dimgray",
        "plot_bgcolor": "dimgray",
        "template": {
         "data": {
          "bar": [
           {
            "error_x": {
             "color": "rgb(36,36,36)"
            },
            "error_y": {
             "color": "rgb(36,36,36)"
            },
            "marker": {
             "line": {
              "color": "rgb(234,234,242)",
              "width": 0.5
             },
             "pattern": {
              "fillmode": "overlay",
              "size": 10,
              "solidity": 0.2
             }
            },
            "type": "bar"
           }
          ],
          "barpolar": [
           {
            "marker": {
             "line": {
              "color": "rgb(234,234,242)",
              "width": 0.5
             },
             "pattern": {
              "fillmode": "overlay",
              "size": 10,
              "solidity": 0.2
             }
            },
            "type": "barpolar"
           }
          ],
          "carpet": [
           {
            "aaxis": {
             "endlinecolor": "rgb(36,36,36)",
             "gridcolor": "white",
             "linecolor": "white",
             "minorgridcolor": "white",
             "startlinecolor": "rgb(36,36,36)"
            },
            "baxis": {
             "endlinecolor": "rgb(36,36,36)",
             "gridcolor": "white",
             "linecolor": "white",
             "minorgridcolor": "white",
             "startlinecolor": "rgb(36,36,36)"
            },
            "type": "carpet"
           }
          ],
          "choropleth": [
           {
            "colorbar": {
             "outlinewidth": 0,
             "tickcolor": "rgb(36,36,36)",
             "ticklen": 8,
             "ticks": "outside",
             "tickwidth": 2
            },
            "type": "choropleth"
           }
          ],
          "contour": [
           {
            "colorbar": {
             "outlinewidth": 0,
             "tickcolor": "rgb(36,36,36)",
             "ticklen": 8,
             "ticks": "outside",
             "tickwidth": 2
            },
            "colorscale": [
             [
              0,
              "rgb(2,4,25)"
             ],
             [
              0.06274509803921569,
              "rgb(24,15,41)"
             ],
             [
              0.12549019607843137,
              "rgb(47,23,57)"
             ],
             [
              0.18823529411764706,
              "rgb(71,28,72)"
             ],
             [
              0.25098039215686274,
              "rgb(97,30,82)"
             ],
             [
              0.3137254901960784,
              "rgb(123,30,89)"
             ],
             [
              0.3764705882352941,
              "rgb(150,27,91)"
             ],
             [
              0.4392156862745098,
              "rgb(177,22,88)"
             ],
             [
              0.5019607843137255,
              "rgb(203,26,79)"
             ],
             [
              0.5647058823529412,
              "rgb(223,47,67)"
             ],
             [
              0.6274509803921569,
              "rgb(236,76,61)"
             ],
             [
              0.6901960784313725,
              "rgb(242,107,73)"
             ],
             [
              0.7529411764705882,
              "rgb(244,135,95)"
             ],
             [
              0.8156862745098039,
              "rgb(245,162,122)"
             ],
             [
              0.8784313725490196,
              "rgb(246,188,153)"
             ],
             [
              0.9411764705882353,
              "rgb(247,212,187)"
             ],
             [
              1,
              "rgb(250,234,220)"
             ]
            ],
            "type": "contour"
           }
          ],
          "contourcarpet": [
           {
            "colorbar": {
             "outlinewidth": 0,
             "tickcolor": "rgb(36,36,36)",
             "ticklen": 8,
             "ticks": "outside",
             "tickwidth": 2
            },
            "type": "contourcarpet"
           }
          ],
          "heatmap": [
           {
            "colorbar": {
             "outlinewidth": 0,
             "tickcolor": "rgb(36,36,36)",
             "ticklen": 8,
             "ticks": "outside",
             "tickwidth": 2
            },
            "colorscale": [
             [
              0,
              "rgb(2,4,25)"
             ],
             [
              0.06274509803921569,
              "rgb(24,15,41)"
             ],
             [
              0.12549019607843137,
              "rgb(47,23,57)"
             ],
             [
              0.18823529411764706,
              "rgb(71,28,72)"
             ],
             [
              0.25098039215686274,
              "rgb(97,30,82)"
             ],
             [
              0.3137254901960784,
              "rgb(123,30,89)"
             ],
             [
              0.3764705882352941,
              "rgb(150,27,91)"
             ],
             [
              0.4392156862745098,
              "rgb(177,22,88)"
             ],
             [
              0.5019607843137255,
              "rgb(203,26,79)"
             ],
             [
              0.5647058823529412,
              "rgb(223,47,67)"
             ],
             [
              0.6274509803921569,
              "rgb(236,76,61)"
             ],
             [
              0.6901960784313725,
              "rgb(242,107,73)"
             ],
             [
              0.7529411764705882,
              "rgb(244,135,95)"
             ],
             [
              0.8156862745098039,
              "rgb(245,162,122)"
             ],
             [
              0.8784313725490196,
              "rgb(246,188,153)"
             ],
             [
              0.9411764705882353,
              "rgb(247,212,187)"
             ],
             [
              1,
              "rgb(250,234,220)"
             ]
            ],
            "type": "heatmap"
           }
          ],
          "heatmapgl": [
           {
            "colorbar": {
             "outlinewidth": 0,
             "tickcolor": "rgb(36,36,36)",
             "ticklen": 8,
             "ticks": "outside",
             "tickwidth": 2
            },
            "colorscale": [
             [
              0,
              "rgb(2,4,25)"
             ],
             [
              0.06274509803921569,
              "rgb(24,15,41)"
             ],
             [
              0.12549019607843137,
              "rgb(47,23,57)"
             ],
             [
              0.18823529411764706,
              "rgb(71,28,72)"
             ],
             [
              0.25098039215686274,
              "rgb(97,30,82)"
             ],
             [
              0.3137254901960784,
              "rgb(123,30,89)"
             ],
             [
              0.3764705882352941,
              "rgb(150,27,91)"
             ],
             [
              0.4392156862745098,
              "rgb(177,22,88)"
             ],
             [
              0.5019607843137255,
              "rgb(203,26,79)"
             ],
             [
              0.5647058823529412,
              "rgb(223,47,67)"
             ],
             [
              0.6274509803921569,
              "rgb(236,76,61)"
             ],
             [
              0.6901960784313725,
              "rgb(242,107,73)"
             ],
             [
              0.7529411764705882,
              "rgb(244,135,95)"
             ],
             [
              0.8156862745098039,
              "rgb(245,162,122)"
             ],
             [
              0.8784313725490196,
              "rgb(246,188,153)"
             ],
             [
              0.9411764705882353,
              "rgb(247,212,187)"
             ],
             [
              1,
              "rgb(250,234,220)"
             ]
            ],
            "type": "heatmapgl"
           }
          ],
          "histogram": [
           {
            "marker": {
             "pattern": {
              "fillmode": "overlay",
              "size": 10,
              "solidity": 0.2
             }
            },
            "type": "histogram"
           }
          ],
          "histogram2d": [
           {
            "colorbar": {
             "outlinewidth": 0,
             "tickcolor": "rgb(36,36,36)",
             "ticklen": 8,
             "ticks": "outside",
             "tickwidth": 2
            },
            "colorscale": [
             [
              0,
              "rgb(2,4,25)"
             ],
             [
              0.06274509803921569,
              "rgb(24,15,41)"
             ],
             [
              0.12549019607843137,
              "rgb(47,23,57)"
             ],
             [
              0.18823529411764706,
              "rgb(71,28,72)"
             ],
             [
              0.25098039215686274,
              "rgb(97,30,82)"
             ],
             [
              0.3137254901960784,
              "rgb(123,30,89)"
             ],
             [
              0.3764705882352941,
              "rgb(150,27,91)"
             ],
             [
              0.4392156862745098,
              "rgb(177,22,88)"
             ],
             [
              0.5019607843137255,
              "rgb(203,26,79)"
             ],
             [
              0.5647058823529412,
              "rgb(223,47,67)"
             ],
             [
              0.6274509803921569,
              "rgb(236,76,61)"
             ],
             [
              0.6901960784313725,
              "rgb(242,107,73)"
             ],
             [
              0.7529411764705882,
              "rgb(244,135,95)"
             ],
             [
              0.8156862745098039,
              "rgb(245,162,122)"
             ],
             [
              0.8784313725490196,
              "rgb(246,188,153)"
             ],
             [
              0.9411764705882353,
              "rgb(247,212,187)"
             ],
             [
              1,
              "rgb(250,234,220)"
             ]
            ],
            "type": "histogram2d"
           }
          ],
          "histogram2dcontour": [
           {
            "colorbar": {
             "outlinewidth": 0,
             "tickcolor": "rgb(36,36,36)",
             "ticklen": 8,
             "ticks": "outside",
             "tickwidth": 2
            },
            "colorscale": [
             [
              0,
              "rgb(2,4,25)"
             ],
             [
              0.06274509803921569,
              "rgb(24,15,41)"
             ],
             [
              0.12549019607843137,
              "rgb(47,23,57)"
             ],
             [
              0.18823529411764706,
              "rgb(71,28,72)"
             ],
             [
              0.25098039215686274,
              "rgb(97,30,82)"
             ],
             [
              0.3137254901960784,
              "rgb(123,30,89)"
             ],
             [
              0.3764705882352941,
              "rgb(150,27,91)"
             ],
             [
              0.4392156862745098,
              "rgb(177,22,88)"
             ],
             [
              0.5019607843137255,
              "rgb(203,26,79)"
             ],
             [
              0.5647058823529412,
              "rgb(223,47,67)"
             ],
             [
              0.6274509803921569,
              "rgb(236,76,61)"
             ],
             [
              0.6901960784313725,
              "rgb(242,107,73)"
             ],
             [
              0.7529411764705882,
              "rgb(244,135,95)"
             ],
             [
              0.8156862745098039,
              "rgb(245,162,122)"
             ],
             [
              0.8784313725490196,
              "rgb(246,188,153)"
             ],
             [
              0.9411764705882353,
              "rgb(247,212,187)"
             ],
             [
              1,
              "rgb(250,234,220)"
             ]
            ],
            "type": "histogram2dcontour"
           }
          ],
          "mesh3d": [
           {
            "colorbar": {
             "outlinewidth": 0,
             "tickcolor": "rgb(36,36,36)",
             "ticklen": 8,
             "ticks": "outside",
             "tickwidth": 2
            },
            "type": "mesh3d"
           }
          ],
          "parcoords": [
           {
            "line": {
             "colorbar": {
              "outlinewidth": 0,
              "tickcolor": "rgb(36,36,36)",
              "ticklen": 8,
              "ticks": "outside",
              "tickwidth": 2
             }
            },
            "type": "parcoords"
           }
          ],
          "pie": [
           {
            "automargin": true,
            "type": "pie"
           }
          ],
          "scatter": [
           {
            "fillpattern": {
             "fillmode": "overlay",
             "size": 10,
             "solidity": 0.2
            },
            "type": "scatter"
           }
          ],
          "scatter3d": [
           {
            "line": {
             "colorbar": {
              "outlinewidth": 0,
              "tickcolor": "rgb(36,36,36)",
              "ticklen": 8,
              "ticks": "outside",
              "tickwidth": 2
             }
            },
            "marker": {
             "colorbar": {
              "outlinewidth": 0,
              "tickcolor": "rgb(36,36,36)",
              "ticklen": 8,
              "ticks": "outside",
              "tickwidth": 2
             }
            },
            "type": "scatter3d"
           }
          ],
          "scattercarpet": [
           {
            "marker": {
             "colorbar": {
              "outlinewidth": 0,
              "tickcolor": "rgb(36,36,36)",
              "ticklen": 8,
              "ticks": "outside",
              "tickwidth": 2
             }
            },
            "type": "scattercarpet"
           }
          ],
          "scattergeo": [
           {
            "marker": {
             "colorbar": {
              "outlinewidth": 0,
              "tickcolor": "rgb(36,36,36)",
              "ticklen": 8,
              "ticks": "outside",
              "tickwidth": 2
             }
            },
            "type": "scattergeo"
           }
          ],
          "scattergl": [
           {
            "marker": {
             "colorbar": {
              "outlinewidth": 0,
              "tickcolor": "rgb(36,36,36)",
              "ticklen": 8,
              "ticks": "outside",
              "tickwidth": 2
             }
            },
            "type": "scattergl"
           }
          ],
          "scattermapbox": [
           {
            "marker": {
             "colorbar": {
              "outlinewidth": 0,
              "tickcolor": "rgb(36,36,36)",
              "ticklen": 8,
              "ticks": "outside",
              "tickwidth": 2
             }
            },
            "type": "scattermapbox"
           }
          ],
          "scatterpolar": [
           {
            "marker": {
             "colorbar": {
              "outlinewidth": 0,
              "tickcolor": "rgb(36,36,36)",
              "ticklen": 8,
              "ticks": "outside",
              "tickwidth": 2
             }
            },
            "type": "scatterpolar"
           }
          ],
          "scatterpolargl": [
           {
            "marker": {
             "colorbar": {
              "outlinewidth": 0,
              "tickcolor": "rgb(36,36,36)",
              "ticklen": 8,
              "ticks": "outside",
              "tickwidth": 2
             }
            },
            "type": "scatterpolargl"
           }
          ],
          "scatterternary": [
           {
            "marker": {
             "colorbar": {
              "outlinewidth": 0,
              "tickcolor": "rgb(36,36,36)",
              "ticklen": 8,
              "ticks": "outside",
              "tickwidth": 2
             }
            },
            "type": "scatterternary"
           }
          ],
          "surface": [
           {
            "colorbar": {
             "outlinewidth": 0,
             "tickcolor": "rgb(36,36,36)",
             "ticklen": 8,
             "ticks": "outside",
             "tickwidth": 2
            },
            "colorscale": [
             [
              0,
              "rgb(2,4,25)"
             ],
             [
              0.06274509803921569,
              "rgb(24,15,41)"
             ],
             [
              0.12549019607843137,
              "rgb(47,23,57)"
             ],
             [
              0.18823529411764706,
              "rgb(71,28,72)"
             ],
             [
              0.25098039215686274,
              "rgb(97,30,82)"
             ],
             [
              0.3137254901960784,
              "rgb(123,30,89)"
             ],
             [
              0.3764705882352941,
              "rgb(150,27,91)"
             ],
             [
              0.4392156862745098,
              "rgb(177,22,88)"
             ],
             [
              0.5019607843137255,
              "rgb(203,26,79)"
             ],
             [
              0.5647058823529412,
              "rgb(223,47,67)"
             ],
             [
              0.6274509803921569,
              "rgb(236,76,61)"
             ],
             [
              0.6901960784313725,
              "rgb(242,107,73)"
             ],
             [
              0.7529411764705882,
              "rgb(244,135,95)"
             ],
             [
              0.8156862745098039,
              "rgb(245,162,122)"
             ],
             [
              0.8784313725490196,
              "rgb(246,188,153)"
             ],
             [
              0.9411764705882353,
              "rgb(247,212,187)"
             ],
             [
              1,
              "rgb(250,234,220)"
             ]
            ],
            "type": "surface"
           }
          ],
          "table": [
           {
            "cells": {
             "fill": {
              "color": "rgb(231,231,240)"
             },
             "line": {
              "color": "white"
             }
            },
            "header": {
             "fill": {
              "color": "rgb(183,183,191)"
             },
             "line": {
              "color": "white"
             }
            },
            "type": "table"
           }
          ]
         },
         "layout": {
          "annotationdefaults": {
           "arrowcolor": "rgb(67,103,167)"
          },
          "autotypenumbers": "strict",
          "coloraxis": {
           "colorbar": {
            "outlinewidth": 0,
            "tickcolor": "rgb(36,36,36)",
            "ticklen": 8,
            "ticks": "outside",
            "tickwidth": 2
           }
          },
          "colorscale": {
           "sequential": [
            [
             0,
             "rgb(2,4,25)"
            ],
            [
             0.06274509803921569,
             "rgb(24,15,41)"
            ],
            [
             0.12549019607843137,
             "rgb(47,23,57)"
            ],
            [
             0.18823529411764706,
             "rgb(71,28,72)"
            ],
            [
             0.25098039215686274,
             "rgb(97,30,82)"
            ],
            [
             0.3137254901960784,
             "rgb(123,30,89)"
            ],
            [
             0.3764705882352941,
             "rgb(150,27,91)"
            ],
            [
             0.4392156862745098,
             "rgb(177,22,88)"
            ],
            [
             0.5019607843137255,
             "rgb(203,26,79)"
            ],
            [
             0.5647058823529412,
             "rgb(223,47,67)"
            ],
            [
             0.6274509803921569,
             "rgb(236,76,61)"
            ],
            [
             0.6901960784313725,
             "rgb(242,107,73)"
            ],
            [
             0.7529411764705882,
             "rgb(244,135,95)"
            ],
            [
             0.8156862745098039,
             "rgb(245,162,122)"
            ],
            [
             0.8784313725490196,
             "rgb(246,188,153)"
            ],
            [
             0.9411764705882353,
             "rgb(247,212,187)"
            ],
            [
             1,
             "rgb(250,234,220)"
            ]
           ],
           "sequentialminus": [
            [
             0,
             "rgb(2,4,25)"
            ],
            [
             0.06274509803921569,
             "rgb(24,15,41)"
            ],
            [
             0.12549019607843137,
             "rgb(47,23,57)"
            ],
            [
             0.18823529411764706,
             "rgb(71,28,72)"
            ],
            [
             0.25098039215686274,
             "rgb(97,30,82)"
            ],
            [
             0.3137254901960784,
             "rgb(123,30,89)"
            ],
            [
             0.3764705882352941,
             "rgb(150,27,91)"
            ],
            [
             0.4392156862745098,
             "rgb(177,22,88)"
            ],
            [
             0.5019607843137255,
             "rgb(203,26,79)"
            ],
            [
             0.5647058823529412,
             "rgb(223,47,67)"
            ],
            [
             0.6274509803921569,
             "rgb(236,76,61)"
            ],
            [
             0.6901960784313725,
             "rgb(242,107,73)"
            ],
            [
             0.7529411764705882,
             "rgb(244,135,95)"
            ],
            [
             0.8156862745098039,
             "rgb(245,162,122)"
            ],
            [
             0.8784313725490196,
             "rgb(246,188,153)"
            ],
            [
             0.9411764705882353,
             "rgb(247,212,187)"
            ],
            [
             1,
             "rgb(250,234,220)"
            ]
           ]
          },
          "colorway": [
           "rgb(76,114,176)",
           "rgb(221,132,82)",
           "rgb(85,168,104)",
           "rgb(196,78,82)",
           "rgb(129,114,179)",
           "rgb(147,120,96)",
           "rgb(218,139,195)",
           "rgb(140,140,140)",
           "rgb(204,185,116)",
           "rgb(100,181,205)"
          ],
          "font": {
           "color": "rgb(36,36,36)"
          },
          "geo": {
           "bgcolor": "white",
           "lakecolor": "white",
           "landcolor": "rgb(234,234,242)",
           "showlakes": true,
           "showland": true,
           "subunitcolor": "white"
          },
          "hoverlabel": {
           "align": "left"
          },
          "hovermode": "closest",
          "paper_bgcolor": "white",
          "plot_bgcolor": "rgb(234,234,242)",
          "polar": {
           "angularaxis": {
            "gridcolor": "white",
            "linecolor": "white",
            "showgrid": true,
            "ticks": ""
           },
           "bgcolor": "rgb(234,234,242)",
           "radialaxis": {
            "gridcolor": "white",
            "linecolor": "white",
            "showgrid": true,
            "ticks": ""
           }
          },
          "scene": {
           "xaxis": {
            "backgroundcolor": "rgb(234,234,242)",
            "gridcolor": "white",
            "gridwidth": 2,
            "linecolor": "white",
            "showbackground": true,
            "showgrid": true,
            "ticks": "",
            "zerolinecolor": "white"
           },
           "yaxis": {
            "backgroundcolor": "rgb(234,234,242)",
            "gridcolor": "white",
            "gridwidth": 2,
            "linecolor": "white",
            "showbackground": true,
            "showgrid": true,
            "ticks": "",
            "zerolinecolor": "white"
           },
           "zaxis": {
            "backgroundcolor": "rgb(234,234,242)",
            "gridcolor": "white",
            "gridwidth": 2,
            "linecolor": "white",
            "showbackground": true,
            "showgrid": true,
            "ticks": "",
            "zerolinecolor": "white"
           }
          },
          "shapedefaults": {
           "fillcolor": "rgb(67,103,167)",
           "line": {
            "width": 0
           },
           "opacity": 0.5
          },
          "ternary": {
           "aaxis": {
            "gridcolor": "white",
            "linecolor": "white",
            "showgrid": true,
            "ticks": ""
           },
           "baxis": {
            "gridcolor": "white",
            "linecolor": "white",
            "showgrid": true,
            "ticks": ""
           },
           "bgcolor": "rgb(234,234,242)",
           "caxis": {
            "gridcolor": "white",
            "linecolor": "white",
            "showgrid": true,
            "ticks": ""
           }
          },
          "xaxis": {
           "automargin": true,
           "gridcolor": "white",
           "linecolor": "white",
           "showgrid": true,
           "ticks": "",
           "title": {
            "standoff": 15
           },
           "zerolinecolor": "white"
          },
          "yaxis": {
           "automargin": true,
           "gridcolor": "white",
           "linecolor": "white",
           "showgrid": true,
           "ticks": "",
           "title": {
            "standoff": 15
           },
           "zerolinecolor": "white"
          }
         }
        },
        "title": {
         "font": {
          "color": "white",
          "size": 20
         },
         "text": "Resultados"
        },
        "width": 1000,
        "xaxis": {
         "anchor": "y",
         "categoryarray": [
          "Verdaderos Positivos",
          "Falsos Positivos",
          "Falsos Negativos"
         ],
         "categoryorder": "array",
         "domain": [
          0,
          1
         ],
         "title": {
          "text": "Categorías"
         }
        },
        "yaxis": {
         "anchor": "x",
         "domain": [
          0,
          1
         ],
         "title": {
          "text": "Cantidad"
         }
        }
       }
      }
     },
     "metadata": {},
     "output_type": "display_data"
    },
    {
     "data": {
      "application/vnd.plotly.v1+json": {
       "config": {
        "plotlyServerURL": "https://plot.ly"
       },
       "data": [
        {
         "marker": {
          "color": [
           5.9,
           5.8,
           4,
           3.7,
           3.6,
           4.6,
           3.9,
           3.9,
           4.4,
           4
          ],
          "colorbar": {
           "title": {
            "text": "Magnitud"
           }
          },
          "colorscale": [
           [
            0,
            "rgb(0,0,131)"
           ],
           [
            0.2,
            "rgb(0,60,170)"
           ],
           [
            0.4,
            "rgb(5,255,255)"
           ],
           [
            0.6,
            "rgb(255,255,0)"
           ],
           [
            0.8,
            "rgb(250,0,0)"
           ],
           [
            1,
            "rgb(128,0,0)"
           ]
          ],
          "size": 7
         },
         "mode": "markers",
         "name": "Magnitudes",
         "type": "scatter",
         "x": [
          "2021-07-04 01:01:37",
          "2021-07-04 01:29:15",
          "2021-07-04 01:34:42",
          "2021-07-04 01:57:43",
          "2021-07-04 02:28:58",
          "2021-07-04 02:57:48",
          "2021-07-04 03:07:42",
          "2021-07-04 03:51:03",
          "2021-07-04 04:03:22",
          "2021-07-04 04:08:09"
         ],
         "y": [
          5.9,
          5.8,
          4,
          3.7,
          3.6,
          4.6,
          3.9,
          3.9,
          4.4,
          4
         ]
        }
       ],
       "layout": {
        "font": {
         "color": "white",
         "family": "Arial",
         "size": 12
        },
        "height": 400,
        "paper_bgcolor": "dimgray",
        "plot_bgcolor": "dimgray",
        "template": {
         "data": {
          "bar": [
           {
            "error_x": {
             "color": "#2a3f5f"
            },
            "error_y": {
             "color": "#2a3f5f"
            },
            "marker": {
             "line": {
              "color": "#E5ECF6",
              "width": 0.5
             },
             "pattern": {
              "fillmode": "overlay",
              "size": 10,
              "solidity": 0.2
             }
            },
            "type": "bar"
           }
          ],
          "barpolar": [
           {
            "marker": {
             "line": {
              "color": "#E5ECF6",
              "width": 0.5
             },
             "pattern": {
              "fillmode": "overlay",
              "size": 10,
              "solidity": 0.2
             }
            },
            "type": "barpolar"
           }
          ],
          "carpet": [
           {
            "aaxis": {
             "endlinecolor": "#2a3f5f",
             "gridcolor": "white",
             "linecolor": "white",
             "minorgridcolor": "white",
             "startlinecolor": "#2a3f5f"
            },
            "baxis": {
             "endlinecolor": "#2a3f5f",
             "gridcolor": "white",
             "linecolor": "white",
             "minorgridcolor": "white",
             "startlinecolor": "#2a3f5f"
            },
            "type": "carpet"
           }
          ],
          "choropleth": [
           {
            "colorbar": {
             "outlinewidth": 0,
             "ticks": ""
            },
            "type": "choropleth"
           }
          ],
          "contour": [
           {
            "colorbar": {
             "outlinewidth": 0,
             "ticks": ""
            },
            "colorscale": [
             [
              0,
              "#0d0887"
             ],
             [
              0.1111111111111111,
              "#46039f"
             ],
             [
              0.2222222222222222,
              "#7201a8"
             ],
             [
              0.3333333333333333,
              "#9c179e"
             ],
             [
              0.4444444444444444,
              "#bd3786"
             ],
             [
              0.5555555555555556,
              "#d8576b"
             ],
             [
              0.6666666666666666,
              "#ed7953"
             ],
             [
              0.7777777777777778,
              "#fb9f3a"
             ],
             [
              0.8888888888888888,
              "#fdca26"
             ],
             [
              1,
              "#f0f921"
             ]
            ],
            "type": "contour"
           }
          ],
          "contourcarpet": [
           {
            "colorbar": {
             "outlinewidth": 0,
             "ticks": ""
            },
            "type": "contourcarpet"
           }
          ],
          "heatmap": [
           {
            "colorbar": {
             "outlinewidth": 0,
             "ticks": ""
            },
            "colorscale": [
             [
              0,
              "#0d0887"
             ],
             [
              0.1111111111111111,
              "#46039f"
             ],
             [
              0.2222222222222222,
              "#7201a8"
             ],
             [
              0.3333333333333333,
              "#9c179e"
             ],
             [
              0.4444444444444444,
              "#bd3786"
             ],
             [
              0.5555555555555556,
              "#d8576b"
             ],
             [
              0.6666666666666666,
              "#ed7953"
             ],
             [
              0.7777777777777778,
              "#fb9f3a"
             ],
             [
              0.8888888888888888,
              "#fdca26"
             ],
             [
              1,
              "#f0f921"
             ]
            ],
            "type": "heatmap"
           }
          ],
          "heatmapgl": [
           {
            "colorbar": {
             "outlinewidth": 0,
             "ticks": ""
            },
            "colorscale": [
             [
              0,
              "#0d0887"
             ],
             [
              0.1111111111111111,
              "#46039f"
             ],
             [
              0.2222222222222222,
              "#7201a8"
             ],
             [
              0.3333333333333333,
              "#9c179e"
             ],
             [
              0.4444444444444444,
              "#bd3786"
             ],
             [
              0.5555555555555556,
              "#d8576b"
             ],
             [
              0.6666666666666666,
              "#ed7953"
             ],
             [
              0.7777777777777778,
              "#fb9f3a"
             ],
             [
              0.8888888888888888,
              "#fdca26"
             ],
             [
              1,
              "#f0f921"
             ]
            ],
            "type": "heatmapgl"
           }
          ],
          "histogram": [
           {
            "marker": {
             "pattern": {
              "fillmode": "overlay",
              "size": 10,
              "solidity": 0.2
             }
            },
            "type": "histogram"
           }
          ],
          "histogram2d": [
           {
            "colorbar": {
             "outlinewidth": 0,
             "ticks": ""
            },
            "colorscale": [
             [
              0,
              "#0d0887"
             ],
             [
              0.1111111111111111,
              "#46039f"
             ],
             [
              0.2222222222222222,
              "#7201a8"
             ],
             [
              0.3333333333333333,
              "#9c179e"
             ],
             [
              0.4444444444444444,
              "#bd3786"
             ],
             [
              0.5555555555555556,
              "#d8576b"
             ],
             [
              0.6666666666666666,
              "#ed7953"
             ],
             [
              0.7777777777777778,
              "#fb9f3a"
             ],
             [
              0.8888888888888888,
              "#fdca26"
             ],
             [
              1,
              "#f0f921"
             ]
            ],
            "type": "histogram2d"
           }
          ],
          "histogram2dcontour": [
           {
            "colorbar": {
             "outlinewidth": 0,
             "ticks": ""
            },
            "colorscale": [
             [
              0,
              "#0d0887"
             ],
             [
              0.1111111111111111,
              "#46039f"
             ],
             [
              0.2222222222222222,
              "#7201a8"
             ],
             [
              0.3333333333333333,
              "#9c179e"
             ],
             [
              0.4444444444444444,
              "#bd3786"
             ],
             [
              0.5555555555555556,
              "#d8576b"
             ],
             [
              0.6666666666666666,
              "#ed7953"
             ],
             [
              0.7777777777777778,
              "#fb9f3a"
             ],
             [
              0.8888888888888888,
              "#fdca26"
             ],
             [
              1,
              "#f0f921"
             ]
            ],
            "type": "histogram2dcontour"
           }
          ],
          "mesh3d": [
           {
            "colorbar": {
             "outlinewidth": 0,
             "ticks": ""
            },
            "type": "mesh3d"
           }
          ],
          "parcoords": [
           {
            "line": {
             "colorbar": {
              "outlinewidth": 0,
              "ticks": ""
             }
            },
            "type": "parcoords"
           }
          ],
          "pie": [
           {
            "automargin": true,
            "type": "pie"
           }
          ],
          "scatter": [
           {
            "fillpattern": {
             "fillmode": "overlay",
             "size": 10,
             "solidity": 0.2
            },
            "type": "scatter"
           }
          ],
          "scatter3d": [
           {
            "line": {
             "colorbar": {
              "outlinewidth": 0,
              "ticks": ""
             }
            },
            "marker": {
             "colorbar": {
              "outlinewidth": 0,
              "ticks": ""
             }
            },
            "type": "scatter3d"
           }
          ],
          "scattercarpet": [
           {
            "marker": {
             "colorbar": {
              "outlinewidth": 0,
              "ticks": ""
             }
            },
            "type": "scattercarpet"
           }
          ],
          "scattergeo": [
           {
            "marker": {
             "colorbar": {
              "outlinewidth": 0,
              "ticks": ""
             }
            },
            "type": "scattergeo"
           }
          ],
          "scattergl": [
           {
            "marker": {
             "colorbar": {
              "outlinewidth": 0,
              "ticks": ""
             }
            },
            "type": "scattergl"
           }
          ],
          "scattermapbox": [
           {
            "marker": {
             "colorbar": {
              "outlinewidth": 0,
              "ticks": ""
             }
            },
            "type": "scattermapbox"
           }
          ],
          "scatterpolar": [
           {
            "marker": {
             "colorbar": {
              "outlinewidth": 0,
              "ticks": ""
             }
            },
            "type": "scatterpolar"
           }
          ],
          "scatterpolargl": [
           {
            "marker": {
             "colorbar": {
              "outlinewidth": 0,
              "ticks": ""
             }
            },
            "type": "scatterpolargl"
           }
          ],
          "scatterternary": [
           {
            "marker": {
             "colorbar": {
              "outlinewidth": 0,
              "ticks": ""
             }
            },
            "type": "scatterternary"
           }
          ],
          "surface": [
           {
            "colorbar": {
             "outlinewidth": 0,
             "ticks": ""
            },
            "colorscale": [
             [
              0,
              "#0d0887"
             ],
             [
              0.1111111111111111,
              "#46039f"
             ],
             [
              0.2222222222222222,
              "#7201a8"
             ],
             [
              0.3333333333333333,
              "#9c179e"
             ],
             [
              0.4444444444444444,
              "#bd3786"
             ],
             [
              0.5555555555555556,
              "#d8576b"
             ],
             [
              0.6666666666666666,
              "#ed7953"
             ],
             [
              0.7777777777777778,
              "#fb9f3a"
             ],
             [
              0.8888888888888888,
              "#fdca26"
             ],
             [
              1,
              "#f0f921"
             ]
            ],
            "type": "surface"
           }
          ],
          "table": [
           {
            "cells": {
             "fill": {
              "color": "#EBF0F8"
             },
             "line": {
              "color": "white"
             }
            },
            "header": {
             "fill": {
              "color": "#C8D4E3"
             },
             "line": {
              "color": "white"
             }
            },
            "type": "table"
           }
          ]
         },
         "layout": {
          "annotationdefaults": {
           "arrowcolor": "#2a3f5f",
           "arrowhead": 0,
           "arrowwidth": 1
          },
          "autotypenumbers": "strict",
          "coloraxis": {
           "colorbar": {
            "outlinewidth": 0,
            "ticks": ""
           }
          },
          "colorscale": {
           "diverging": [
            [
             0,
             "#8e0152"
            ],
            [
             0.1,
             "#c51b7d"
            ],
            [
             0.2,
             "#de77ae"
            ],
            [
             0.3,
             "#f1b6da"
            ],
            [
             0.4,
             "#fde0ef"
            ],
            [
             0.5,
             "#f7f7f7"
            ],
            [
             0.6,
             "#e6f5d0"
            ],
            [
             0.7,
             "#b8e186"
            ],
            [
             0.8,
             "#7fbc41"
            ],
            [
             0.9,
             "#4d9221"
            ],
            [
             1,
             "#276419"
            ]
           ],
           "sequential": [
            [
             0,
             "#0d0887"
            ],
            [
             0.1111111111111111,
             "#46039f"
            ],
            [
             0.2222222222222222,
             "#7201a8"
            ],
            [
             0.3333333333333333,
             "#9c179e"
            ],
            [
             0.4444444444444444,
             "#bd3786"
            ],
            [
             0.5555555555555556,
             "#d8576b"
            ],
            [
             0.6666666666666666,
             "#ed7953"
            ],
            [
             0.7777777777777778,
             "#fb9f3a"
            ],
            [
             0.8888888888888888,
             "#fdca26"
            ],
            [
             1,
             "#f0f921"
            ]
           ],
           "sequentialminus": [
            [
             0,
             "#0d0887"
            ],
            [
             0.1111111111111111,
             "#46039f"
            ],
            [
             0.2222222222222222,
             "#7201a8"
            ],
            [
             0.3333333333333333,
             "#9c179e"
            ],
            [
             0.4444444444444444,
             "#bd3786"
            ],
            [
             0.5555555555555556,
             "#d8576b"
            ],
            [
             0.6666666666666666,
             "#ed7953"
            ],
            [
             0.7777777777777778,
             "#fb9f3a"
            ],
            [
             0.8888888888888888,
             "#fdca26"
            ],
            [
             1,
             "#f0f921"
            ]
           ]
          },
          "colorway": [
           "#636efa",
           "#EF553B",
           "#00cc96",
           "#ab63fa",
           "#FFA15A",
           "#19d3f3",
           "#FF6692",
           "#B6E880",
           "#FF97FF",
           "#FECB52"
          ],
          "font": {
           "color": "#2a3f5f"
          },
          "geo": {
           "bgcolor": "white",
           "lakecolor": "white",
           "landcolor": "#E5ECF6",
           "showlakes": true,
           "showland": true,
           "subunitcolor": "white"
          },
          "hoverlabel": {
           "align": "left"
          },
          "hovermode": "closest",
          "mapbox": {
           "style": "light"
          },
          "paper_bgcolor": "white",
          "plot_bgcolor": "#E5ECF6",
          "polar": {
           "angularaxis": {
            "gridcolor": "white",
            "linecolor": "white",
            "ticks": ""
           },
           "bgcolor": "#E5ECF6",
           "radialaxis": {
            "gridcolor": "white",
            "linecolor": "white",
            "ticks": ""
           }
          },
          "scene": {
           "xaxis": {
            "backgroundcolor": "#E5ECF6",
            "gridcolor": "white",
            "gridwidth": 2,
            "linecolor": "white",
            "showbackground": true,
            "ticks": "",
            "zerolinecolor": "white"
           },
           "yaxis": {
            "backgroundcolor": "#E5ECF6",
            "gridcolor": "white",
            "gridwidth": 2,
            "linecolor": "white",
            "showbackground": true,
            "ticks": "",
            "zerolinecolor": "white"
           },
           "zaxis": {
            "backgroundcolor": "#E5ECF6",
            "gridcolor": "white",
            "gridwidth": 2,
            "linecolor": "white",
            "showbackground": true,
            "ticks": "",
            "zerolinecolor": "white"
           }
          },
          "shapedefaults": {
           "line": {
            "color": "#2a3f5f"
           }
          },
          "ternary": {
           "aaxis": {
            "gridcolor": "white",
            "linecolor": "white",
            "ticks": ""
           },
           "baxis": {
            "gridcolor": "white",
            "linecolor": "white",
            "ticks": ""
           },
           "bgcolor": "#E5ECF6",
           "caxis": {
            "gridcolor": "white",
            "linecolor": "white",
            "ticks": ""
           }
          },
          "title": {
           "x": 0.05
          },
          "xaxis": {
           "automargin": true,
           "gridcolor": "white",
           "linecolor": "white",
           "ticks": "",
           "title": {
            "standoff": 15
           },
           "zerolinecolor": "white",
           "zerolinewidth": 2
          },
          "yaxis": {
           "automargin": true,
           "gridcolor": "white",
           "linecolor": "white",
           "ticks": "",
           "title": {
            "standoff": 15
           },
           "zerolinecolor": "white",
           "zerolinewidth": 2
          }
         }
        },
        "title": {
         "font": {
          "color": "white",
          "size": 20
         },
         "text": "Magnitudes de los Verdaderos Positivos"
        },
        "width": 1000,
        "xaxis": {
         "tickangle": -45,
         "tickformat": "%Y-%m-%d %H:%M:%S",
         "title": {
          "text": "Tiempo"
         },
         "type": "date"
        },
        "yaxis": {
         "title": {
          "text": "Magnitud"
         }
        }
       }
      }
     },
     "metadata": {},
     "output_type": "display_data"
    }
   ],
   "source": [
    "# Crear DataFrame de resultados para Plotly Express\n",
    "df_resultados = pd.DataFrame({\n",
    "    'Categorías': ['Verdaderos Positivos', 'Falsos Positivos', 'Falsos Negativos'],\n",
    "    'Cantidad': [len(verdaderos_positivos), len(falsos_positivos), len(falsos_negativos)]\n",
    "})\n",
    "\n",
    "# Configurar el estilo de los gráficos (opcional)\n",
    "px.defaults.template = \"seaborn\"\n",
    "\n",
    "# Graficar los resultados con colores variados usando Plotly Express\n",
    "fig_resultados = px.bar(df_resultados, x='Categorías', y='Cantidad', color='Categorías')\n",
    "\n",
    "# Personalizar diseño\n",
    "fig_resultados.update_layout(\n",
    "    title='Resultados',\n",
    "    xaxis_title='Categorías',\n",
    "    yaxis_title='Cantidad',\n",
    "    paper_bgcolor='dimgray',      # Cambiar el color de fondo del gráfico\n",
    "    plot_bgcolor='dimgray',       # Cambiar el color de fondo de la trama\n",
    "    title_font=dict(size=20, color=\"white\"),  # Ajustar el tamaño y color del título\n",
    "    font=dict(family=\"Arial\", size=12, color=\"white\")\n",
    ")\n",
    "\n",
    "# Reducir el tamaño del gráfico de resultados\n",
    "fig_resultados.update_layout(height=500, width=1000)\n",
    "\n",
    "# Mostrar gráfico interactivo\n",
    "fig_resultados.show()\n",
    "\n",
    "# Crear DataFrame de magnitudes para Plotly Express\n",
    "df_magnitudes = pd.DataFrame({\n",
    "    'Tiempo': list(magnitudes_verdaderos_positivos.keys()),\n",
    "    'Magnitud': list(magnitudes_verdaderos_positivos.values())\n",
    "})\n",
    "\n",
    "# Configurar el estilo de los gráficos (opcional)\n",
    "px.defaults.template = \"seaborn\"\n",
    "\n",
    "# Crear un objeto de figura\n",
    "fig_magnitud = go.Figure()\n",
    "\n",
    "# Agregar la traza de línea al objeto de figura\n",
    "\n",
    "fig_magnitud.add_trace(go.Scatter(\n",
    "    x=[t.strftime('%Y-%m-%d %H:%M:%S') for t in magnitudes_verdaderos_positivos.keys()],\n",
    "    y=list(magnitudes_verdaderos_positivos.values()),\n",
    "    mode='markers',\n",
    "    name='Magnitudes',\n",
    "    marker=dict(\n",
    "        color=list(magnitudes_verdaderos_positivos.values()),  # Asignar la magnitud como la escala de color\n",
    "        colorscale='Jet',  # Escala de colores\n",
    "        size = 7,\n",
    "        colorbar=dict(\n",
    "            title='Magnitud',  # Etiqueta de la barra de colores\n",
    "        )\n",
    "    )\n",
    "))\n",
    "\n",
    "# Personalizar diseño\n",
    "fig_magnitud.update_layout(\n",
    "    title='Magnitudes de los Verdaderos Positivos',\n",
    "    xaxis_title='Tiempo',\n",
    "    xaxis=dict(\n",
    "        tickformat='%Y-%m-%d %H:%M:%S',\n",
    "        tickangle=-45,\n",
    "        type='date'\n",
    "    ),\n",
    "    yaxis_title='Magnitud',\n",
    "    font=dict(family=\"Arial\", size=12, color=\"white\"),\n",
    "    height=600,  # Ajustar la altura del gráfico\n",
    "    width=1300,    # Ajustar el ancho del gráfico\n",
    "    paper_bgcolor='dimgray',      # Cambiar el color de fondo del gráfico\n",
    "    plot_bgcolor='dimgray',       # Cambiar el color de fondo de la trama\n",
    "    title_font=dict(size=20, color=\"white\")  # Ajustar el tamaño y color del título\n",
    ")\n",
    "\n",
    "# Reducir el tamaño del gráfico de magnitudes\n",
    "fig_magnitud.update_layout(height=400, width=1000)\n",
    "\n",
    "# Mostrar gráfico interactivo\n",
    "fig_magnitud.show()"
   ]
  },
  {
   "cell_type": "code",
   "execution_count": 19,
   "metadata": {},
   "outputs": [
    {
     "data": {
      "application/vnd.plotly.v1+json": {
       "config": {
        "plotlyServerURL": "https://plot.ly"
       },
       "data": [
        {
         "marker": {
          "color": [
           "rgb(0.0, 0.0, 0.3)",
           "rgb(0.0, 0.0, 0.4217391304347826)",
           "rgb(0.0, 0.0, 0.5434782608695652)",
           "rgb(0.0, 0.0, 0.6652173913043478)",
           "rgb(0.0, 0.0, 0.7869565217391303)",
           "rgb(0.0, 0.0, 0.9086956521739129)",
           "rgb(0.043478260869565216, 0.043478260869565216, 1.0)",
           "rgb(0.21739130434782608, 0.21739130434782608, 1.0)",
           "rgb(0.391304347826087, 0.391304347826087, 1.0)",
           "rgb(0.5652173913043478, 0.5652173913043478, 1.0)",
           "rgb(0.7391304347826086, 0.7391304347826086, 1.0)",
           "rgb(0.9130434782608695, 0.9130434782608695, 1.0)",
           "rgb(1.0, 0.9130434782608696, 0.9130434782608696)",
           "rgb(1.0, 0.739130434782609, 0.739130434782609)",
           "rgb(1.0, 0.5652173913043479, 0.5652173913043479)",
           "rgb(1.0, 0.3913043478260869, 0.3913043478260869)",
           "rgb(1.0, 0.21739130434782605, 0.21739130434782605)",
           "rgb(1.0, 0.04347826086956519, 0.04347826086956519)",
           "rgb(0.9347826086956522, 0.0, 0.0)",
           "rgb(0.8478260869565217, 0.0, 0.0)",
           "rgb(0.7608695652173914, 0.0, 0.0)",
           "rgb(0.6739130434782609, 0.0, 0.0)",
           "rgb(0.5869565217391304, 0.0, 0.0)",
           "rgb(0.5, 0.0, 0.0)"
          ]
         },
         "type": "bar",
         "width": 0.1,
         "x": [
          3.5495,
          3.6500000000000004,
          3.75,
          3.8499999999999996,
          3.95,
          4.05,
          4.15,
          4.25,
          4.35,
          4.45,
          4.55,
          4.65,
          4.75,
          4.85,
          4.95,
          5.05,
          5.15,
          5.25,
          5.35,
          5.45,
          5.55,
          5.65,
          5.75,
          5.85
         ],
         "y": [
          5,
          3,
          0,
          2,
          2,
          1,
          0,
          0,
          1,
          0,
          1,
          0,
          0,
          0,
          0,
          0,
          0,
          0,
          0,
          0,
          0,
          0,
          1,
          1
         ]
        }
       ],
       "layout": {
        "font": {
         "color": "white",
         "family": "Arial",
         "size": 12
        },
        "paper_bgcolor": "dimgray",
        "plot_bgcolor": "dimgray",
        "template": {
         "data": {
          "bar": [
           {
            "error_x": {
             "color": "rgb(36,36,36)"
            },
            "error_y": {
             "color": "rgb(36,36,36)"
            },
            "marker": {
             "line": {
              "color": "rgb(234,234,242)",
              "width": 0.5
             },
             "pattern": {
              "fillmode": "overlay",
              "size": 10,
              "solidity": 0.2
             }
            },
            "type": "bar"
           }
          ],
          "barpolar": [
           {
            "marker": {
             "line": {
              "color": "rgb(234,234,242)",
              "width": 0.5
             },
             "pattern": {
              "fillmode": "overlay",
              "size": 10,
              "solidity": 0.2
             }
            },
            "type": "barpolar"
           }
          ],
          "carpet": [
           {
            "aaxis": {
             "endlinecolor": "rgb(36,36,36)",
             "gridcolor": "white",
             "linecolor": "white",
             "minorgridcolor": "white",
             "startlinecolor": "rgb(36,36,36)"
            },
            "baxis": {
             "endlinecolor": "rgb(36,36,36)",
             "gridcolor": "white",
             "linecolor": "white",
             "minorgridcolor": "white",
             "startlinecolor": "rgb(36,36,36)"
            },
            "type": "carpet"
           }
          ],
          "choropleth": [
           {
            "colorbar": {
             "outlinewidth": 0,
             "tickcolor": "rgb(36,36,36)",
             "ticklen": 8,
             "ticks": "outside",
             "tickwidth": 2
            },
            "type": "choropleth"
           }
          ],
          "contour": [
           {
            "colorbar": {
             "outlinewidth": 0,
             "tickcolor": "rgb(36,36,36)",
             "ticklen": 8,
             "ticks": "outside",
             "tickwidth": 2
            },
            "colorscale": [
             [
              0,
              "rgb(2,4,25)"
             ],
             [
              0.06274509803921569,
              "rgb(24,15,41)"
             ],
             [
              0.12549019607843137,
              "rgb(47,23,57)"
             ],
             [
              0.18823529411764706,
              "rgb(71,28,72)"
             ],
             [
              0.25098039215686274,
              "rgb(97,30,82)"
             ],
             [
              0.3137254901960784,
              "rgb(123,30,89)"
             ],
             [
              0.3764705882352941,
              "rgb(150,27,91)"
             ],
             [
              0.4392156862745098,
              "rgb(177,22,88)"
             ],
             [
              0.5019607843137255,
              "rgb(203,26,79)"
             ],
             [
              0.5647058823529412,
              "rgb(223,47,67)"
             ],
             [
              0.6274509803921569,
              "rgb(236,76,61)"
             ],
             [
              0.6901960784313725,
              "rgb(242,107,73)"
             ],
             [
              0.7529411764705882,
              "rgb(244,135,95)"
             ],
             [
              0.8156862745098039,
              "rgb(245,162,122)"
             ],
             [
              0.8784313725490196,
              "rgb(246,188,153)"
             ],
             [
              0.9411764705882353,
              "rgb(247,212,187)"
             ],
             [
              1,
              "rgb(250,234,220)"
             ]
            ],
            "type": "contour"
           }
          ],
          "contourcarpet": [
           {
            "colorbar": {
             "outlinewidth": 0,
             "tickcolor": "rgb(36,36,36)",
             "ticklen": 8,
             "ticks": "outside",
             "tickwidth": 2
            },
            "type": "contourcarpet"
           }
          ],
          "heatmap": [
           {
            "colorbar": {
             "outlinewidth": 0,
             "tickcolor": "rgb(36,36,36)",
             "ticklen": 8,
             "ticks": "outside",
             "tickwidth": 2
            },
            "colorscale": [
             [
              0,
              "rgb(2,4,25)"
             ],
             [
              0.06274509803921569,
              "rgb(24,15,41)"
             ],
             [
              0.12549019607843137,
              "rgb(47,23,57)"
             ],
             [
              0.18823529411764706,
              "rgb(71,28,72)"
             ],
             [
              0.25098039215686274,
              "rgb(97,30,82)"
             ],
             [
              0.3137254901960784,
              "rgb(123,30,89)"
             ],
             [
              0.3764705882352941,
              "rgb(150,27,91)"
             ],
             [
              0.4392156862745098,
              "rgb(177,22,88)"
             ],
             [
              0.5019607843137255,
              "rgb(203,26,79)"
             ],
             [
              0.5647058823529412,
              "rgb(223,47,67)"
             ],
             [
              0.6274509803921569,
              "rgb(236,76,61)"
             ],
             [
              0.6901960784313725,
              "rgb(242,107,73)"
             ],
             [
              0.7529411764705882,
              "rgb(244,135,95)"
             ],
             [
              0.8156862745098039,
              "rgb(245,162,122)"
             ],
             [
              0.8784313725490196,
              "rgb(246,188,153)"
             ],
             [
              0.9411764705882353,
              "rgb(247,212,187)"
             ],
             [
              1,
              "rgb(250,234,220)"
             ]
            ],
            "type": "heatmap"
           }
          ],
          "heatmapgl": [
           {
            "colorbar": {
             "outlinewidth": 0,
             "tickcolor": "rgb(36,36,36)",
             "ticklen": 8,
             "ticks": "outside",
             "tickwidth": 2
            },
            "colorscale": [
             [
              0,
              "rgb(2,4,25)"
             ],
             [
              0.06274509803921569,
              "rgb(24,15,41)"
             ],
             [
              0.12549019607843137,
              "rgb(47,23,57)"
             ],
             [
              0.18823529411764706,
              "rgb(71,28,72)"
             ],
             [
              0.25098039215686274,
              "rgb(97,30,82)"
             ],
             [
              0.3137254901960784,
              "rgb(123,30,89)"
             ],
             [
              0.3764705882352941,
              "rgb(150,27,91)"
             ],
             [
              0.4392156862745098,
              "rgb(177,22,88)"
             ],
             [
              0.5019607843137255,
              "rgb(203,26,79)"
             ],
             [
              0.5647058823529412,
              "rgb(223,47,67)"
             ],
             [
              0.6274509803921569,
              "rgb(236,76,61)"
             ],
             [
              0.6901960784313725,
              "rgb(242,107,73)"
             ],
             [
              0.7529411764705882,
              "rgb(244,135,95)"
             ],
             [
              0.8156862745098039,
              "rgb(245,162,122)"
             ],
             [
              0.8784313725490196,
              "rgb(246,188,153)"
             ],
             [
              0.9411764705882353,
              "rgb(247,212,187)"
             ],
             [
              1,
              "rgb(250,234,220)"
             ]
            ],
            "type": "heatmapgl"
           }
          ],
          "histogram": [
           {
            "marker": {
             "pattern": {
              "fillmode": "overlay",
              "size": 10,
              "solidity": 0.2
             }
            },
            "type": "histogram"
           }
          ],
          "histogram2d": [
           {
            "colorbar": {
             "outlinewidth": 0,
             "tickcolor": "rgb(36,36,36)",
             "ticklen": 8,
             "ticks": "outside",
             "tickwidth": 2
            },
            "colorscale": [
             [
              0,
              "rgb(2,4,25)"
             ],
             [
              0.06274509803921569,
              "rgb(24,15,41)"
             ],
             [
              0.12549019607843137,
              "rgb(47,23,57)"
             ],
             [
              0.18823529411764706,
              "rgb(71,28,72)"
             ],
             [
              0.25098039215686274,
              "rgb(97,30,82)"
             ],
             [
              0.3137254901960784,
              "rgb(123,30,89)"
             ],
             [
              0.3764705882352941,
              "rgb(150,27,91)"
             ],
             [
              0.4392156862745098,
              "rgb(177,22,88)"
             ],
             [
              0.5019607843137255,
              "rgb(203,26,79)"
             ],
             [
              0.5647058823529412,
              "rgb(223,47,67)"
             ],
             [
              0.6274509803921569,
              "rgb(236,76,61)"
             ],
             [
              0.6901960784313725,
              "rgb(242,107,73)"
             ],
             [
              0.7529411764705882,
              "rgb(244,135,95)"
             ],
             [
              0.8156862745098039,
              "rgb(245,162,122)"
             ],
             [
              0.8784313725490196,
              "rgb(246,188,153)"
             ],
             [
              0.9411764705882353,
              "rgb(247,212,187)"
             ],
             [
              1,
              "rgb(250,234,220)"
             ]
            ],
            "type": "histogram2d"
           }
          ],
          "histogram2dcontour": [
           {
            "colorbar": {
             "outlinewidth": 0,
             "tickcolor": "rgb(36,36,36)",
             "ticklen": 8,
             "ticks": "outside",
             "tickwidth": 2
            },
            "colorscale": [
             [
              0,
              "rgb(2,4,25)"
             ],
             [
              0.06274509803921569,
              "rgb(24,15,41)"
             ],
             [
              0.12549019607843137,
              "rgb(47,23,57)"
             ],
             [
              0.18823529411764706,
              "rgb(71,28,72)"
             ],
             [
              0.25098039215686274,
              "rgb(97,30,82)"
             ],
             [
              0.3137254901960784,
              "rgb(123,30,89)"
             ],
             [
              0.3764705882352941,
              "rgb(150,27,91)"
             ],
             [
              0.4392156862745098,
              "rgb(177,22,88)"
             ],
             [
              0.5019607843137255,
              "rgb(203,26,79)"
             ],
             [
              0.5647058823529412,
              "rgb(223,47,67)"
             ],
             [
              0.6274509803921569,
              "rgb(236,76,61)"
             ],
             [
              0.6901960784313725,
              "rgb(242,107,73)"
             ],
             [
              0.7529411764705882,
              "rgb(244,135,95)"
             ],
             [
              0.8156862745098039,
              "rgb(245,162,122)"
             ],
             [
              0.8784313725490196,
              "rgb(246,188,153)"
             ],
             [
              0.9411764705882353,
              "rgb(247,212,187)"
             ],
             [
              1,
              "rgb(250,234,220)"
             ]
            ],
            "type": "histogram2dcontour"
           }
          ],
          "mesh3d": [
           {
            "colorbar": {
             "outlinewidth": 0,
             "tickcolor": "rgb(36,36,36)",
             "ticklen": 8,
             "ticks": "outside",
             "tickwidth": 2
            },
            "type": "mesh3d"
           }
          ],
          "parcoords": [
           {
            "line": {
             "colorbar": {
              "outlinewidth": 0,
              "tickcolor": "rgb(36,36,36)",
              "ticklen": 8,
              "ticks": "outside",
              "tickwidth": 2
             }
            },
            "type": "parcoords"
           }
          ],
          "pie": [
           {
            "automargin": true,
            "type": "pie"
           }
          ],
          "scatter": [
           {
            "fillpattern": {
             "fillmode": "overlay",
             "size": 10,
             "solidity": 0.2
            },
            "type": "scatter"
           }
          ],
          "scatter3d": [
           {
            "line": {
             "colorbar": {
              "outlinewidth": 0,
              "tickcolor": "rgb(36,36,36)",
              "ticklen": 8,
              "ticks": "outside",
              "tickwidth": 2
             }
            },
            "marker": {
             "colorbar": {
              "outlinewidth": 0,
              "tickcolor": "rgb(36,36,36)",
              "ticklen": 8,
              "ticks": "outside",
              "tickwidth": 2
             }
            },
            "type": "scatter3d"
           }
          ],
          "scattercarpet": [
           {
            "marker": {
             "colorbar": {
              "outlinewidth": 0,
              "tickcolor": "rgb(36,36,36)",
              "ticklen": 8,
              "ticks": "outside",
              "tickwidth": 2
             }
            },
            "type": "scattercarpet"
           }
          ],
          "scattergeo": [
           {
            "marker": {
             "colorbar": {
              "outlinewidth": 0,
              "tickcolor": "rgb(36,36,36)",
              "ticklen": 8,
              "ticks": "outside",
              "tickwidth": 2
             }
            },
            "type": "scattergeo"
           }
          ],
          "scattergl": [
           {
            "marker": {
             "colorbar": {
              "outlinewidth": 0,
              "tickcolor": "rgb(36,36,36)",
              "ticklen": 8,
              "ticks": "outside",
              "tickwidth": 2
             }
            },
            "type": "scattergl"
           }
          ],
          "scattermapbox": [
           {
            "marker": {
             "colorbar": {
              "outlinewidth": 0,
              "tickcolor": "rgb(36,36,36)",
              "ticklen": 8,
              "ticks": "outside",
              "tickwidth": 2
             }
            },
            "type": "scattermapbox"
           }
          ],
          "scatterpolar": [
           {
            "marker": {
             "colorbar": {
              "outlinewidth": 0,
              "tickcolor": "rgb(36,36,36)",
              "ticklen": 8,
              "ticks": "outside",
              "tickwidth": 2
             }
            },
            "type": "scatterpolar"
           }
          ],
          "scatterpolargl": [
           {
            "marker": {
             "colorbar": {
              "outlinewidth": 0,
              "tickcolor": "rgb(36,36,36)",
              "ticklen": 8,
              "ticks": "outside",
              "tickwidth": 2
             }
            },
            "type": "scatterpolargl"
           }
          ],
          "scatterternary": [
           {
            "marker": {
             "colorbar": {
              "outlinewidth": 0,
              "tickcolor": "rgb(36,36,36)",
              "ticklen": 8,
              "ticks": "outside",
              "tickwidth": 2
             }
            },
            "type": "scatterternary"
           }
          ],
          "surface": [
           {
            "colorbar": {
             "outlinewidth": 0,
             "tickcolor": "rgb(36,36,36)",
             "ticklen": 8,
             "ticks": "outside",
             "tickwidth": 2
            },
            "colorscale": [
             [
              0,
              "rgb(2,4,25)"
             ],
             [
              0.06274509803921569,
              "rgb(24,15,41)"
             ],
             [
              0.12549019607843137,
              "rgb(47,23,57)"
             ],
             [
              0.18823529411764706,
              "rgb(71,28,72)"
             ],
             [
              0.25098039215686274,
              "rgb(97,30,82)"
             ],
             [
              0.3137254901960784,
              "rgb(123,30,89)"
             ],
             [
              0.3764705882352941,
              "rgb(150,27,91)"
             ],
             [
              0.4392156862745098,
              "rgb(177,22,88)"
             ],
             [
              0.5019607843137255,
              "rgb(203,26,79)"
             ],
             [
              0.5647058823529412,
              "rgb(223,47,67)"
             ],
             [
              0.6274509803921569,
              "rgb(236,76,61)"
             ],
             [
              0.6901960784313725,
              "rgb(242,107,73)"
             ],
             [
              0.7529411764705882,
              "rgb(244,135,95)"
             ],
             [
              0.8156862745098039,
              "rgb(245,162,122)"
             ],
             [
              0.8784313725490196,
              "rgb(246,188,153)"
             ],
             [
              0.9411764705882353,
              "rgb(247,212,187)"
             ],
             [
              1,
              "rgb(250,234,220)"
             ]
            ],
            "type": "surface"
           }
          ],
          "table": [
           {
            "cells": {
             "fill": {
              "color": "rgb(231,231,240)"
             },
             "line": {
              "color": "white"
             }
            },
            "header": {
             "fill": {
              "color": "rgb(183,183,191)"
             },
             "line": {
              "color": "white"
             }
            },
            "type": "table"
           }
          ]
         },
         "layout": {
          "annotationdefaults": {
           "arrowcolor": "rgb(67,103,167)"
          },
          "autotypenumbers": "strict",
          "coloraxis": {
           "colorbar": {
            "outlinewidth": 0,
            "tickcolor": "rgb(36,36,36)",
            "ticklen": 8,
            "ticks": "outside",
            "tickwidth": 2
           }
          },
          "colorscale": {
           "sequential": [
            [
             0,
             "rgb(2,4,25)"
            ],
            [
             0.06274509803921569,
             "rgb(24,15,41)"
            ],
            [
             0.12549019607843137,
             "rgb(47,23,57)"
            ],
            [
             0.18823529411764706,
             "rgb(71,28,72)"
            ],
            [
             0.25098039215686274,
             "rgb(97,30,82)"
            ],
            [
             0.3137254901960784,
             "rgb(123,30,89)"
            ],
            [
             0.3764705882352941,
             "rgb(150,27,91)"
            ],
            [
             0.4392156862745098,
             "rgb(177,22,88)"
            ],
            [
             0.5019607843137255,
             "rgb(203,26,79)"
            ],
            [
             0.5647058823529412,
             "rgb(223,47,67)"
            ],
            [
             0.6274509803921569,
             "rgb(236,76,61)"
            ],
            [
             0.6901960784313725,
             "rgb(242,107,73)"
            ],
            [
             0.7529411764705882,
             "rgb(244,135,95)"
            ],
            [
             0.8156862745098039,
             "rgb(245,162,122)"
            ],
            [
             0.8784313725490196,
             "rgb(246,188,153)"
            ],
            [
             0.9411764705882353,
             "rgb(247,212,187)"
            ],
            [
             1,
             "rgb(250,234,220)"
            ]
           ],
           "sequentialminus": [
            [
             0,
             "rgb(2,4,25)"
            ],
            [
             0.06274509803921569,
             "rgb(24,15,41)"
            ],
            [
             0.12549019607843137,
             "rgb(47,23,57)"
            ],
            [
             0.18823529411764706,
             "rgb(71,28,72)"
            ],
            [
             0.25098039215686274,
             "rgb(97,30,82)"
            ],
            [
             0.3137254901960784,
             "rgb(123,30,89)"
            ],
            [
             0.3764705882352941,
             "rgb(150,27,91)"
            ],
            [
             0.4392156862745098,
             "rgb(177,22,88)"
            ],
            [
             0.5019607843137255,
             "rgb(203,26,79)"
            ],
            [
             0.5647058823529412,
             "rgb(223,47,67)"
            ],
            [
             0.6274509803921569,
             "rgb(236,76,61)"
            ],
            [
             0.6901960784313725,
             "rgb(242,107,73)"
            ],
            [
             0.7529411764705882,
             "rgb(244,135,95)"
            ],
            [
             0.8156862745098039,
             "rgb(245,162,122)"
            ],
            [
             0.8784313725490196,
             "rgb(246,188,153)"
            ],
            [
             0.9411764705882353,
             "rgb(247,212,187)"
            ],
            [
             1,
             "rgb(250,234,220)"
            ]
           ]
          },
          "colorway": [
           "rgb(76,114,176)",
           "rgb(221,132,82)",
           "rgb(85,168,104)",
           "rgb(196,78,82)",
           "rgb(129,114,179)",
           "rgb(147,120,96)",
           "rgb(218,139,195)",
           "rgb(140,140,140)",
           "rgb(204,185,116)",
           "rgb(100,181,205)"
          ],
          "font": {
           "color": "rgb(36,36,36)"
          },
          "geo": {
           "bgcolor": "white",
           "lakecolor": "white",
           "landcolor": "rgb(234,234,242)",
           "showlakes": true,
           "showland": true,
           "subunitcolor": "white"
          },
          "hoverlabel": {
           "align": "left"
          },
          "hovermode": "closest",
          "paper_bgcolor": "white",
          "plot_bgcolor": "rgb(234,234,242)",
          "polar": {
           "angularaxis": {
            "gridcolor": "white",
            "linecolor": "white",
            "showgrid": true,
            "ticks": ""
           },
           "bgcolor": "rgb(234,234,242)",
           "radialaxis": {
            "gridcolor": "white",
            "linecolor": "white",
            "showgrid": true,
            "ticks": ""
           }
          },
          "scene": {
           "xaxis": {
            "backgroundcolor": "rgb(234,234,242)",
            "gridcolor": "white",
            "gridwidth": 2,
            "linecolor": "white",
            "showbackground": true,
            "showgrid": true,
            "ticks": "",
            "zerolinecolor": "white"
           },
           "yaxis": {
            "backgroundcolor": "rgb(234,234,242)",
            "gridcolor": "white",
            "gridwidth": 2,
            "linecolor": "white",
            "showbackground": true,
            "showgrid": true,
            "ticks": "",
            "zerolinecolor": "white"
           },
           "zaxis": {
            "backgroundcolor": "rgb(234,234,242)",
            "gridcolor": "white",
            "gridwidth": 2,
            "linecolor": "white",
            "showbackground": true,
            "showgrid": true,
            "ticks": "",
            "zerolinecolor": "white"
           }
          },
          "shapedefaults": {
           "fillcolor": "rgb(67,103,167)",
           "line": {
            "width": 0
           },
           "opacity": 0.5
          },
          "ternary": {
           "aaxis": {
            "gridcolor": "white",
            "linecolor": "white",
            "showgrid": true,
            "ticks": ""
           },
           "baxis": {
            "gridcolor": "white",
            "linecolor": "white",
            "showgrid": true,
            "ticks": ""
           },
           "bgcolor": "rgb(234,234,242)",
           "caxis": {
            "gridcolor": "white",
            "linecolor": "white",
            "showgrid": true,
            "ticks": ""
           }
          },
          "xaxis": {
           "automargin": true,
           "gridcolor": "white",
           "linecolor": "white",
           "showgrid": true,
           "ticks": "",
           "title": {
            "standoff": 15
           },
           "zerolinecolor": "white"
          },
          "yaxis": {
           "automargin": true,
           "gridcolor": "white",
           "linecolor": "white",
           "showgrid": true,
           "ticks": "",
           "title": {
            "standoff": 15
           },
           "zerolinecolor": "white"
          }
         }
        },
        "title": {
         "text": "Cantidad de Sismos (VP) Según Magnitud"
        },
        "xaxis": {
         "title": {
          "text": "Magnitud"
         }
        },
        "yaxis": {
         "title": {
          "text": "Cantidad"
         }
        }
       }
      }
     },
     "metadata": {},
     "output_type": "display_data"
    }
   ],
   "source": [
    "\n",
    "magnitudes_list = list(magnitudes.values())\n",
    "\n",
    "df = pd.DataFrame({'Magnitudes': magnitudes_list})\n",
    "\n",
    "# Crear bins para la data \n",
    "bins = np.arange(min(magnitudes_list), max(magnitudes_list) + 0.1, 0.1)\n",
    "df['Bins'] = pd.cut(df['Magnitudes'], bins=bins, include_lowest=True)\n",
    "df_bins = df['Bins'].value_counts().sort_index().reset_index()\n",
    "df_bins.columns = ['Bins', 'Count']\n",
    "df_bins['Mid'] = df_bins['Bins'].apply(lambda x: (x.right + x.left) / 2)\n",
    "\n",
    "color_scale = cm.get_cmap('seismic', len(df_bins))\n",
    "colors = ['rgb'+str(color_scale(i)[:3]) for i in range(len(df_bins))]\n",
    "\n",
    "# bar chart\n",
    "fig = go.Figure(data=[go.Bar(x=df_bins['Mid'], y=df_bins['Count'], marker_color=colors, width=0.1)])\n",
    "\n",
    "\n",
    "fig.update_layout(\n",
    "    title_text='Cantidad de Sismos (VP) Según Magnitud', # title of plot\n",
    "    xaxis_title_text='Magnitud', # xaxis label\n",
    "    yaxis_title_text='Cantidad', # yaxis label\n",
    "    template=\"seaborn\",\n",
    "    paper_bgcolor='dimgray',\n",
    "    plot_bgcolor='dimgray',\n",
    "    font=dict(family=\"Arial\", size=12, color=\"white\")\n",
    ")\n",
    "\n",
    "fig.show()\n",
    "\n",
    "\n"
   ]
  }
 ],
 "metadata": {
  "kernelspec": {
   "display_name": "trigger_env",
   "language": "python",
   "name": "python3"
  },
  "language_info": {
   "codemirror_mode": {
    "name": "ipython",
    "version": 3
   },
   "file_extension": ".py",
   "mimetype": "text/x-python",
   "name": "python",
   "nbconvert_exporter": "python",
   "pygments_lexer": "ipython3",
   "version": "3.10.13"
  }
 },
 "nbformat": 4,
 "nbformat_minor": 2
}
