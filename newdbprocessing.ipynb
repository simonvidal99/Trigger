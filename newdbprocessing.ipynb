{
 "cells": [
  {
   "cell_type": "code",
   "execution_count": 1,
   "metadata": {},
   "outputs": [],
   "source": [
    "%load_ext autoreload\n",
    "%autoreload 2\n",
    "%reload_ext autoreload\n",
    "\n",
    "# %matplotlib widget\n"
   ]
  },
  {
   "cell_type": "code",
   "execution_count": 388,
   "metadata": {},
   "outputs": [],
   "source": [
    "# Standard Library Imports\n",
    "import os\n",
    "import csv\n",
    "from datetime import datetime, timedelta, timezone\n",
    "from collections import defaultdict\n",
    "from collections import OrderedDict\n",
    "from itertools import product\n",
    "from itertools import groupby\n",
    "import itertools\n",
    "import pickle\n",
    "import glob\n",
    "import chardet\n",
    "import copy\n",
    "from natsort import natsorted\n",
    "\n",
    "# Third-Party Library Imports\n",
    "import numpy as np\n",
    "import matplotlib.pyplot as plt\n",
    "# Set a professional style for the plot\n",
    "plt.style.use('_mpl-gallery')\n",
    "import matplotlib.dates as mdaates\n",
    "import matplotlib.gridspec as gridspec\n",
    "import matplotlib.cm as cm\n",
    "import plotly.graph_objects as go\n",
    "from plotly.subplots import make_subplots\n",
    "from sklearn.metrics import roc_curve, auc, confusion_matrix, ConfusionMatrixDisplay\n",
    "from obspy import read, UTCDateTime\n",
    "from obspy.signal.trigger import classic_sta_lta, trigger_onset, plot_trigger\n",
    "from obspy import Trace\n",
    "from obspy.imaging.spectrogram import spectrogram\n",
    "import pandas as pd\n",
    "from geopy.distance import geodesic\n",
    "from tqdm.auto import tqdm\n",
    "from icecream import ic\n",
    "import seaborn as sns\n",
    "from scipy.stats import norm, kstest, skew, kurtosis\n",
    "import warnings\n",
    "warnings.filterwarnings(\"ignore\")\n",
    "\n",
    "# Local Imports\n",
    "from energy.utils_general import *\n",
    "from energy.utils_energy import *\n",
    "from energy.preprocessing import *\n",
    "from energy.metrics import *"
   ]
  },
  {
   "cell_type": "markdown",
   "metadata": {},
   "source": [
    "A tener en consideración. Las rutas a los archivos están guardadas de la siguiente forma: *waveform_M/event_ID/channel/station/eventid_canal_horainicio_horatermino.mseed*\n"
   ]
  },
  {
   "cell_type": "markdown",
   "metadata": {},
   "source": []
  },
  {
   "cell_type": "markdown",
   "metadata": {},
   "source": [
    "# 1. Creamos un diccionario con las coordenadas de las estaciones del litoral a partir del archivo Excel."
   ]
  },
  {
   "cell_type": "code",
   "execution_count": 3,
   "metadata": {},
   "outputs": [],
   "source": [
    "v_P = 8.064\n",
    "\n",
    "file_stations_coord = \"Estaciones_Litoral.xlsx\"\n",
    "df = pd.read_excel(file_stations_coord)\n",
    "stations_coord_all = df.set_index('Estacion')[['Lat', 'Lon']].apply(tuple, axis=1).to_dict()\n",
    "stations_names = list(stations_coord_all.keys())"
   ]
  },
  {
   "cell_type": "code",
   "execution_count": null,
   "metadata": {},
   "outputs": [],
   "source": []
  },
  {
   "cell_type": "markdown",
   "metadata": {},
   "source": [
    "# 2. Trabajar con la base de datos"
   ]
  },
  {
   "cell_type": "markdown",
   "metadata": {},
   "source": [
    "### 2.1. La función z_channel_dict entrega un nested dictionary donde la primera capa de llaves indica la magnitud, la segunda capa el evento, la tercera la red de la estación que la captó, y finalmente el valor es la traza ya leída por obspy"
   ]
  },
  {
   "cell_type": "code",
   "execution_count": 4,
   "metadata": {},
   "outputs": [],
   "source": [
    "# Get the path to all the folders from the folder BD paper that is in the current directory\n",
    "#folders = glob.glob('BD paper/*')\n",
    "folders = glob.glob(os.path.join('BD paper', '*'))\n",
    "# Get all the folders in the BD paper folder that start with waveform \n",
    "#folders_signals = [folder for folder in folders if folder.startswith('BD paper/waveform')]\n",
    "folders_signals = [folder for folder in folders if folder.startswith(os.path.join('BD paper', 'waveform'))]\n",
    "\n",
    "folders_signals = sorted(folders_signals)"
   ]
  },
  {
   "cell_type": "code",
   "execution_count": 5,
   "metadata": {},
   "outputs": [
    {
     "data": {
      "text/plain": [
       "['BD paper\\\\waveform_4p1_0.5',\n",
       " 'BD paper\\\\waveform_4p2_0.5',\n",
       " 'BD paper\\\\waveform_5_0.5',\n",
       " 'BD paper\\\\waveform_6-9_0.5']"
      ]
     },
     "execution_count": 5,
     "metadata": {},
     "output_type": "execute_result"
    }
   ],
   "source": [
    "folders_signals"
   ]
  },
  {
   "cell_type": "markdown",
   "metadata": {},
   "source": [
    "Esta función se puede/debe optimizar. Usando os.walk probablemente sale más rápido. No sé si existe alguna forma de hacerla más generalizable eso si"
   ]
  },
  {
   "cell_type": "code",
   "execution_count": 391,
   "metadata": {},
   "outputs": [
    {
     "ename": "NameError",
     "evalue": "name 'last_part' is not defined",
     "output_type": "error",
     "traceback": [
      "\u001b[1;31m---------------------------------------------------------------------------\u001b[0m",
      "\u001b[1;31mNameError\u001b[0m                                 Traceback (most recent call last)",
      "Cell \u001b[1;32mIn[391], line 1\u001b[0m\n\u001b[1;32m----> 1\u001b[0m file_list \u001b[38;5;241m=\u001b[39m glob\u001b[38;5;241m.\u001b[39mglob(os\u001b[38;5;241m.\u001b[39mpath\u001b[38;5;241m.\u001b[39mjoin(inventory_path, \u001b[38;5;124mf\u001b[39m\u001b[38;5;124m\"\u001b[39m\u001b[38;5;124m*\u001b[39m\u001b[38;5;132;01m{\u001b[39;00mlast_part\u001b[38;5;132;01m}\u001b[39;00m\u001b[38;5;124m.xml\u001b[39m\u001b[38;5;124m\"\u001b[39m))\n",
      "\u001b[1;31mNameError\u001b[0m: name 'last_part' is not defined"
     ]
    }
   ],
   "source": [
    "file_list = glob.glob(os.path.join(inventory_path, f\"*{last_part}.xml\"))"
   ]
  },
  {
   "cell_type": "code",
   "execution_count": 398,
   "metadata": {},
   "outputs": [],
   "source": [
    "inventory_path = \"inventory\"\n",
    "def z_channel_dict(folders_signals, inventory_path=inventory_path):\n",
    "    result_dict = OrderedDict()\n",
    "\n",
    "    for folder in folders_signals:\n",
    "        waveform_type = os.path.split(folder)[-1]\n",
    "        events_id = natsorted(glob.glob(os.path.join(folder, '*')))\n",
    "\n",
    "        for event_id in events_id:\n",
    "            events_name = os.path.split(event_id)[-1]\n",
    "            network_path = glob.glob(os.path.join(event_id, '*'))\n",
    "\n",
    "            for network_folder in network_path:\n",
    "                network_name = os.path.split(network_folder)[-1]\n",
    "                \n",
    "                stations_path = glob.glob(os.path.join(network_folder, '*'))\n",
    "\n",
    "                for station_path in stations_path:\n",
    "                    stations_names = os.path.split(station_path)[-1]\n",
    "                    #ic(stations_names)\n",
    "                    stations_path = glob.glob(os.path.join(station_path, '*'))\n",
    "\n",
    "                    stations_ch_z = [station_z for station_z in stations_path if 'BHZ' in station_z]\n",
    "\n",
    "                    # Read and store traces using ObsPy\n",
    "                    traces = []\n",
    "                    for station_z_path in stations_ch_z:\n",
    "                        trace = read(station_z_path)[0]  # Assuming one trace per file\n",
    "                        file_list = glob.glob(os.path.join(inventory_path, f\"*{stations_names}.xml\"))\n",
    "\n",
    "                        if file_list:\n",
    "                            remove_file = file_list[0]\n",
    "\n",
    "                        trace_resp = trace.copy()\n",
    "                        trace_removed = remove_response(trace_resp, remove_file , 'obspy')\n",
    "                        #st_resp[2] = st_removed\n",
    "                        st = trace_removed.copy()\n",
    "                        st.filter('bandpass', freqmin=4.0, freqmax=10.0)\n",
    "                        \n",
    "                        traces.append(st)\n",
    "\n",
    "                    result_dict.setdefault(waveform_type, {}).setdefault(events_name, {}).setdefault(network_name, {}).setdefault(stations_names, traces)\n",
    "\n",
    "    return result_dict\n",
    "\n",
    "event_dict = z_channel_dict(folders_signals)\n"
   ]
  },
  {
   "cell_type": "code",
   "execution_count": null,
   "metadata": {},
   "outputs": [],
   "source": []
  },
  {
   "cell_type": "code",
   "execution_count": 399,
   "metadata": {},
   "outputs": [],
   "source": [
    "waveform_type = list(event_dict.keys())\n",
    "\n",
    "# get all the events ids consideting waveform type is a list. And make events_ids a dictionary with the waveform type as keys\n",
    "events_ids = {waveform_type: [int(event_id) for event_id in event_dict[waveform_type].keys()] for waveform_type in waveform_type}\n"
   ]
  },
  {
   "cell_type": "markdown",
   "metadata": {},
   "source": [
    "### 2.2. La siguiente función pone a todas las traces de TODOS los eventos en una fila, esto lo tengo a priori, quizás habrá que arreglarlo"
   ]
  },
  {
   "cell_type": "code",
   "execution_count": 400,
   "metadata": {},
   "outputs": [],
   "source": [
    "def get_all_traces(nested_dict):\n",
    "    traces = []\n",
    "    for value in nested_dict.values():\n",
    "        if isinstance(value, dict):\n",
    "            traces.extend(get_all_traces(value))\n",
    "        else:\n",
    "            traces.extend(value)\n",
    "    return traces\n",
    "\n",
    "# Get all ObsPy Trace objects in the dictionary\n",
    "all_traces = get_all_traces(event_dict)"
   ]
  },
  {
   "cell_type": "code",
   "execution_count": 401,
   "metadata": {},
   "outputs": [
    {
     "data": {
      "text/plain": [
       "['BD paper\\\\catalogos',\n",
       " 'BD paper\\\\solo para ver waveform 4p1',\n",
       " 'BD paper\\\\waveform_4p1_0.5',\n",
       " 'BD paper\\\\waveform_4p2_0.5',\n",
       " 'BD paper\\\\waveform_5_0.5',\n",
       " 'BD paper\\\\waveform_6-9_0.5']"
      ]
     },
     "execution_count": 401,
     "metadata": {},
     "output_type": "execute_result"
    }
   ],
   "source": [
    "folders"
   ]
  },
  {
   "cell_type": "markdown",
   "metadata": {},
   "source": [
    "### 2.3 El siguiente código es para crear un nuevo archivo CSV que contenga solo los siguientes datos:\n",
    "- EventId\n",
    "- Time\n",
    "- Latitud\n",
    "- Longitud\n",
    "- Magnitud\n",
    "- Estación (la que aparece automáticamente en el catálogo)\n",
    "- Estación más cercana (calculada con geodisic)"
   ]
  },
  {
   "cell_type": "code",
   "execution_count": null,
   "metadata": {},
   "outputs": [],
   "source": [
    "# FUNCION QUE USABA ANTES CUANDO TRABAJA CON CARPETA LISTA DE EVENTOS. PODRÍA SERVIR EN UN FUTURO\n",
    "\n",
    "'''\n",
    "def merge_coordinates(files_to_add, files_with_coord):\n",
    "    \n",
    "    for file_to_add, file_with_coords in zip(files_to_add, files_with_coord):\n",
    "        df_to_add = pd.read_csv(file_to_add, sep=',')\n",
    "        df_with_coords = pd.read_csv(file_with_coords, sep='|')\n",
    "\n",
    "        df_to_add['Time'] = pd.to_datetime(df_to_add['Time'])\n",
    "        df_with_coords['Time'] = pd.to_datetime(df_with_coords['Time'])\n",
    "\n",
    "        df_to_add = df_to_add.set_index('Time')\n",
    "\n",
    "        # Merge df_to_add with df_with_coords on 'Time', keeping only 'Latitude' and 'Longitude' from df_with_coords\n",
    "        df_to_add = pd.merge(df_to_add, df_with_coords[['Time','Latitude', 'Longitude']], on='Time', how='left', suffixes=('', '_y'))\n",
    "\n",
    "        # Drop the '_y' columnsbb\n",
    "        df_to_add = df_to_add.drop(columns=['Latitude_y', 'Longitude_y'], errors='ignore')\n",
    "\n",
    "        df_to_add.to_csv(file_to_add, index=False, sep = ',')\n",
    "\n",
    "\n",
    "# Get all the csv files in the BD paper folder that have the word \"cercanos\" in their name\n",
    "files_raw = sorted(glob.glob(os.path.join('BD paper', 'catalogos','*cercanos*.csv')))\n",
    "# Get all the csv files in the BD paper folder that have the word \"full_data\" in their name\n",
    "files_full_data = sorted(glob.glob(os.path.join('BD paper', 'lista de datos','*full_data*.csv')))\n",
    "\n",
    "\n",
    "# Call the function to merge coordinates for each pair of files\n",
    "merge_coordinates(files_raw, files_full_data)\n",
    "\n",
    "'''"
   ]
  },
  {
   "cell_type": "code",
   "execution_count": 402,
   "metadata": {},
   "outputs": [
    {
     "data": {
      "text/plain": [
       "['BD paper\\\\catalogos\\\\Eventos_descargados_4p1.csv',\n",
       " 'BD paper\\\\catalogos\\\\Eventos_descargados_4p2.csv',\n",
       " 'BD paper\\\\catalogos\\\\Eventos_descargados_5.csv',\n",
       " 'BD paper\\\\catalogos\\\\Eventos_descargados_6-9.csv']"
      ]
     },
     "execution_count": 402,
     "metadata": {},
     "output_type": "execute_result"
    }
   ],
   "source": [
    "# Get all the csv files in the BD paper folder that have the word \"cercanos\" in their name\n",
    "files_raw = sorted(glob.glob(os.path.join('BD paper', 'catalogos','*.csv')))\n",
    "\n",
    "files_raw"
   ]
  },
  {
   "cell_type": "code",
   "execution_count": 404,
   "metadata": {},
   "outputs": [],
   "source": [
    "def filter_csv(files_raw, events_ids):\n",
    "    # Columnas a mantener\n",
    "    columns_to_keep = [\"#EventID\", \"Time\", \"Latitude\", \"Longitude\", \"Magnitude\", \"Estacion\"]\n",
    "\n",
    "    for i, (waveform_type, event_ids) in enumerate(events_ids.items()):\n",
    "        # Leer el archivo CSV\n",
    "        df = pd.read_csv(files_raw[i], sep=';')\n",
    "\n",
    "        # Filtrar las filas donde '#EventID' está en event_ids\n",
    "        df = df[df['#EventID'].isin(event_ids)]\n",
    "\n",
    "        # Ordernar la columna de #EventID\n",
    "        df = df.sort_values(by='#EventID')\n",
    "\n",
    "        # Mantener solo las columnas deseadas\n",
    "        df = df[columns_to_keep]\n",
    "\n",
    "        # Guardar el nuevo DataFrame en un nuevo archivo CSV\n",
    "        df.to_excel(os.path.join(\"BD paper\", \"catalogos\", f\"{waveform_type}_filtered.xlsx\"), index=False)\n",
    "\n",
    "filter_csv(files_raw, events_ids)\n"
   ]
  },
  {
   "cell_type": "markdown",
   "metadata": {},
   "source": [
    "### 2.4. Ahora que ya se tienen archivos .csv con columnas \"Event\"Time\", \"Magnitud\", \"Estación\", \"Latitud\", \"Longitud\", podemos verificar efectivamente cuál es la estación más cercana y agregarla como última columna"
   ]
  },
  {
   "cell_type": "code",
   "execution_count": 405,
   "metadata": {},
   "outputs": [
    {
     "data": {
      "text/plain": [
       "['BD paper\\\\catalogos\\\\waveform_4p1_0.5_filtered.xlsx',\n",
       " 'BD paper\\\\catalogos\\\\waveform_4p2_0.5_filtered.xlsx',\n",
       " 'BD paper\\\\catalogos\\\\waveform_5_0.5_filtered.xlsx',\n",
       " 'BD paper\\\\catalogos\\\\waveform_6-9_0.5_filtered.xlsx']"
      ]
     },
     "execution_count": 405,
     "metadata": {},
     "output_type": "execute_result"
    }
   ],
   "source": [
    "files_filtered = sorted(glob.glob(os.path.join('BD paper', 'catalogos','*filtered*')))\n",
    "files_filtered"
   ]
  },
  {
   "cell_type": "code",
   "execution_count": 406,
   "metadata": {},
   "outputs": [
    {
     "name": "stderr",
     "output_type": "stream",
     "text": [
      "ic| file: 'BD paper\\\\catalogos\\\\waveform_4p1_0.5_filtered.xlsx'\n",
      "ic| file: 'BD paper\\\\catalogos\\\\waveform_4p2_0.5_filtered.xlsx'\n",
      "ic| file: 'BD paper\\\\catalogos\\\\waveform_5_0.5_filtered.xlsx'\n",
      "ic| file: 'BD paper\\\\catalogos\\\\waveform_6-9_0.5_filtered.xlsx'\n"
     ]
    }
   ],
   "source": [
    "def closest_station(file_path, stations_coord_all, v_P, n_closest_stations = 5):\n",
    "    '''\n",
    "    Actualiza todos los archivos csv con la estación más cercana a cada evento sísmico.\n",
    "    '''\n",
    "\n",
    "    for file in file_path:\n",
    "        ic(file)\n",
    "\n",
    "        # Leer el archivo CSV\n",
    "        df_events = pd.read_excel(file)\n",
    "\n",
    "        # Cambiar nombre de la columna \"Time\" a \"Fecha UTC\" y cosas en inglés por español\n",
    "        df_events = df_events.rename(columns={'Time': 'Fecha UTC', 'Latitude': 'Latitud', 'Longitude': 'Longitud', 'Magnitude': 'Magnitud'})\n",
    "        \n",
    "        # Cambiar esta columna a formato UTC\n",
    "        df_events['Fecha UTC'] = pd.to_datetime(df_events['Fecha UTC'])\n",
    "        #df_events = df_events.rename(columns={'Latitude': 'Latitud', 'Longitude': 'Longitud'})\n",
    "\n",
    "        # Escribir en el archivo CSV\n",
    "        df_events.to_excel(file, index=False)\n",
    "\n",
    "        # Tomar el valor máximo y mínimo de la magnitud en el dataframe\n",
    "        max_magnitude = df_events['Magnitud'].max()\n",
    "        min_magnitude = df_events['Magnitud'].min()\n",
    "\n",
    "        df_new = calculate_detection_times(df_events, stations_coord_all, v_P, magnitude_range=(min_magnitude, max_magnitude))\n",
    "        _, closest_sts_names = nearest_n_stations(df_new, stations_names, n_closest_stations)\n",
    "\n",
    "        # Leer el archivo CSV\n",
    "        df_events = pd.read_excel(file)\n",
    "\n",
    "        # Agregar columnas para cada estación cercana\n",
    "        for i in range(n_closest_stations):\n",
    "            col_name = f'Estación más cercana {i+1}'\n",
    "            df_events[col_name] = closest_sts_names[i]\n",
    "\n",
    "        # Escribir en el archivo excel\n",
    "        df_events.to_excel(file, index=False)\n",
    "\n",
    "\n",
    "closest_station(files_filtered, stations_coord_all, v_P)\n"
   ]
  },
  {
   "cell_type": "markdown",
   "metadata": {},
   "source": [
    "# 3. Procesamiento de las trazas\n",
    "Ahora que ya tenemos los archivos excel para las magnitudes con las estaciones más cercanas, podemos empezar a trabajar con las trazas"
   ]
  },
  {
   "cell_type": "markdown",
   "metadata": {},
   "source": [
    "## 3.1. Calculo de la potencia\n",
    "Se deben juntar todas las trazas que pertenecen a cada intervalo de magnitud en una sola lista para luego calcular la potencia. Es decir, todas las que son entre 4 y 5, todas las que son entre 5 y 6, y todas las que son mayores que 6. "
   ]
  },
  {
   "cell_type": "code",
   "execution_count": 407,
   "metadata": {},
   "outputs": [],
   "source": [
    "list_closest_stations = ['Estación más cercana 1', 'Estación más cercana 2', 'Estación más cercana 3', 'Estación más cercana 4', 'Estación más cercana 5']\n",
    "\n",
    "def find_matching_trace(event_dict, dataframe, waveform_key, station_columns = list_closest_stations):\n",
    "    trace_list = []\n",
    "    event_dict_waveform = event_dict[waveform_key]\n",
    "\n",
    "    for i in range(len(dataframe['#EventID'].astype(str))):\n",
    "        channels = list(event_dict_waveform[dataframe['#EventID'].astype(str).iloc[i]].keys())\n",
    "        station_data = list(event_dict_waveform[dataframe['#EventID'].astype(str).iloc[i]].values())\n",
    "        station_names = [key for station_dict in station_data for key in station_dict.keys()]\n",
    "\n",
    "        for column in dataframe.loc[:, station_columns]:\n",
    "            station_column_value = dataframe[column].astype(str).iloc[i]\n",
    "\n",
    "            matching_station = next((station for station in station_names if station in station_column_value), None)\n",
    "\n",
    "            if matching_station is not None:\n",
    "                #trace_list.append(station_data[0][matching_station])\n",
    "                trace_list.extend(station_data[0][matching_station])\n",
    "                break\n",
    "            else:\n",
    "                # Tu código si no hay ninguna coincidencia\n",
    "                pass\n",
    "\n",
    "    return trace_list\n",
    "\n",
    "\n",
    "df_mag4p1 = pd.read_excel(files_filtered[0])\n",
    "df_mag4p2 = pd.read_excel(files_filtered[1])\n",
    "df_mag5 = pd.read_excel(files_filtered[2])\n",
    "df_mag69 = pd.read_excel(files_filtered[3])\n",
    "\n",
    "\n",
    "trace_mag4p1 = find_matching_trace(event_dict, df_mag4p1, waveform_type[0], list_closest_stations)\n",
    "trace_mag4p2 = find_matching_trace(event_dict, df_mag4p2, waveform_type[1], list_closest_stations)\n",
    "trace_mag5 = find_matching_trace(event_dict, df_mag5, waveform_type[2], list_closest_stations)\n",
    "trace_mag69 = find_matching_trace(event_dict, df_mag69, waveform_type[3], list_closest_stations)\n"
   ]
  },
  {
   "cell_type": "code",
   "execution_count": 414,
   "metadata": {},
   "outputs": [],
   "source": [
    "# put trace_mag4p1 and trace_mag4p2 together in one list called trace_mag4\n",
    "trace_mag4 = trace_mag4p1 + trace_mag4p2"
   ]
  },
  {
   "cell_type": "code",
   "execution_count": 418,
   "metadata": {},
   "outputs": [],
   "source": [
    "_, power_events_mag4 = zip(*[energy_power(st.data) for st in trace_mag4])\n",
    "_, power_events_mag5 = zip(*[energy_power(st.data) for st in trace_mag5])\n",
    "_, power_events_mag69 = zip(*[energy_power(st.data) for st in trace_mag69])"
   ]
  },
  {
   "cell_type": "code",
   "execution_count": 419,
   "metadata": {},
   "outputs": [],
   "source": [
    "power_all_mags = [power_events_mag4, power_events_mag5, power_events_mag69]"
   ]
  },
  {
   "cell_type": "code",
   "execution_count": 441,
   "metadata": {},
   "outputs": [
    {
     "data": {
      "image/png": "[encoded data removed]",
      "text/plain": [
       "<Figure size 600x400 with 1 Axes>"
      ]
     },
     "metadata": {},
     "output_type": "display_data"
    }
   ],
   "source": [
    "event_type = ['M>=4', 'M>=5', 'M>=6']\n",
    "plot_power(power_all_mags, station = '', n_frames=15, use_log=True, event_type=event_type, x_lim=17 ,y_lim=25)\n"
   ]
  },
  {
   "cell_type": "code",
   "execution_count": 416,
   "metadata": {},
   "outputs": [
    {
     "data": {
      "image/png": "[encoded data removed]",
      "text/plain": [
       "<Figure size 600x400 with 1 Axes>"
      ]
     },
     "metadata": {},
     "output_type": "display_data"
    }
   ],
   "source": [
    "plot_power_each(power_events_mag4, station = '', n_frames=10, use_log = True)"
   ]
  },
  {
   "cell_type": "code",
   "execution_count": null,
   "metadata": {},
   "outputs": [],
   "source": []
  },
  {
   "cell_type": "code",
   "execution_count": null,
   "metadata": {},
   "outputs": [],
   "source": []
  }
 ],
 "metadata": {
  "kernelspec": {
   "display_name": "trigger_env",
   "language": "python",
   "name": "python3"
  },
  "language_info": {
   "codemirror_mode": {
    "name": "ipython",
    "version": 3
   },
   "file_extension": ".py",
   "mimetype": "text/x-python",
   "name": "python",
   "nbconvert_exporter": "python",
   "pygments_lexer": "ipython3",
   "version": "3.10.13"
  }
 },
 "nbformat": 4,
 "nbformat_minor": 2
}
